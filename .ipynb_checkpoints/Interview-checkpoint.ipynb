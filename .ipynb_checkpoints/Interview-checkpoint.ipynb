{
 "cells": [
  {
   "cell_type": "code",
   "execution_count": 1,
   "metadata": {},
   "outputs": [],
   "source": [
    "import pandas as pd\n",
    "import matplotlib.pyplot as plt\n",
    "from sklearn.model_selection import train_test_split\n",
    "from sklearn.model_selection import RepeatedKFold\n",
    "import numpy as np"
   ]
  },
  {
   "cell_type": "code",
   "execution_count": 2,
   "metadata": {},
   "outputs": [
    {
     "data": {
      "text/html": [
       "<div>\n",
       "<style scoped>\n",
       "    .dataframe tbody tr th:only-of-type {\n",
       "        vertical-align: middle;\n",
       "    }\n",
       "\n",
       "    .dataframe tbody tr th {\n",
       "        vertical-align: top;\n",
       "    }\n",
       "\n",
       "    .dataframe thead th {\n",
       "        text-align: right;\n",
       "    }\n",
       "</style>\n",
       "<table border=\"1\" class=\"dataframe\">\n",
       "  <thead>\n",
       "    <tr style=\"text-align: right;\">\n",
       "      <th></th>\n",
       "      <th>MATRICULA</th>\n",
       "      <th>IDADE</th>\n",
       "      <th>NASCIMENTO</th>\n",
       "      <th>SEXO</th>\n",
       "      <th>IMC</th>\n",
       "      <th>FILHOS</th>\n",
       "      <th>FUMANTE</th>\n",
       "      <th>SIGNO</th>\n",
       "      <th>REGIÃO</th>\n",
       "      <th>FACEBOOK</th>\n",
       "      <th>CLASSE</th>\n",
       "      <th>VALOR</th>\n",
       "    </tr>\n",
       "  </thead>\n",
       "  <tbody>\n",
       "    <tr>\n",
       "      <th>0</th>\n",
       "      <td>207</td>\n",
       "      <td>56.0</td>\n",
       "      <td>1963-12-31</td>\n",
       "      <td>M</td>\n",
       "      <td>39.600</td>\n",
       "      <td>0.0</td>\n",
       "      <td>0.0</td>\n",
       "      <td>Capricórnio</td>\n",
       "      <td>3.0</td>\n",
       "      <td>0.0</td>\n",
       "      <td>7.0</td>\n",
       "      <td>3242.022018</td>\n",
       "    </tr>\n",
       "    <tr>\n",
       "      <th>1</th>\n",
       "      <td>852</td>\n",
       "      <td>32.0</td>\n",
       "      <td>1987-10-16</td>\n",
       "      <td>F</td>\n",
       "      <td>37.145</td>\n",
       "      <td>3.0</td>\n",
       "      <td>0.0</td>\n",
       "      <td>Libra</td>\n",
       "      <td>2.0</td>\n",
       "      <td>1.0</td>\n",
       "      <td>2.0</td>\n",
       "      <td>1937.108119</td>\n",
       "    </tr>\n",
       "    <tr>\n",
       "      <th>2</th>\n",
       "      <td>463</td>\n",
       "      <td>47.0</td>\n",
       "      <td>1973-01-23</td>\n",
       "      <td>F</td>\n",
       "      <td>24.100</td>\n",
       "      <td>1.0</td>\n",
       "      <td>0.0</td>\n",
       "      <td>Aquário</td>\n",
       "      <td>3.0</td>\n",
       "      <td>1.0</td>\n",
       "      <td>7.0</td>\n",
       "      <td>8023.418951</td>\n",
       "    </tr>\n",
       "    <tr>\n",
       "      <th>3</th>\n",
       "      <td>628</td>\n",
       "      <td>41.0</td>\n",
       "      <td>1979-01-08</td>\n",
       "      <td>M</td>\n",
       "      <td>30.780</td>\n",
       "      <td>3.0</td>\n",
       "      <td>1.0</td>\n",
       "      <td>Capricórnio</td>\n",
       "      <td>2.0</td>\n",
       "      <td>1.0</td>\n",
       "      <td>6.0</td>\n",
       "      <td>12109.298838</td>\n",
       "    </tr>\n",
       "    <tr>\n",
       "      <th>4</th>\n",
       "      <td>1100</td>\n",
       "      <td>23.0</td>\n",
       "      <td>1996-10-07</td>\n",
       "      <td>M</td>\n",
       "      <td>37.100</td>\n",
       "      <td>3.0</td>\n",
       "      <td>0.0</td>\n",
       "      <td>Libra</td>\n",
       "      <td>3.0</td>\n",
       "      <td>1.0</td>\n",
       "      <td>4.0</td>\n",
       "      <td>1100.182263</td>\n",
       "    </tr>\n",
       "  </tbody>\n",
       "</table>\n",
       "</div>"
      ],
      "text/plain": [
       "   MATRICULA  IDADE NASCIMENTO SEXO     IMC  FILHOS  FUMANTE        SIGNO  \\\n",
       "0        207   56.0 1963-12-31    M  39.600     0.0      0.0  Capricórnio   \n",
       "1        852   32.0 1987-10-16    F  37.145     3.0      0.0        Libra   \n",
       "2        463   47.0 1973-01-23    F  24.100     1.0      0.0      Aquário   \n",
       "3        628   41.0 1979-01-08    M  30.780     3.0      1.0  Capricórnio   \n",
       "4       1100   23.0 1996-10-07    M  37.100     3.0      0.0        Libra   \n",
       "\n",
       "   REGIÃO  FACEBOOK  CLASSE         VALOR  \n",
       "0     3.0       0.0     7.0   3242.022018  \n",
       "1     2.0       1.0     2.0   1937.108119  \n",
       "2     3.0       1.0     7.0   8023.418951  \n",
       "3     2.0       1.0     6.0  12109.298838  \n",
       "4     3.0       1.0     4.0   1100.182263  "
      ]
     },
     "execution_count": 2,
     "metadata": {},
     "output_type": "execute_result"
    }
   ],
   "source": [
    "train = pd.read_excel('./dataset/Seguro Saúde - Modelagem.xlsx', sheet_name='MODELAGEM')\n",
    "test = pd.read_excel('./dataset/Seguro Saúde - Modelagem.xlsx', sheet_name=' TESTE FINAL')\n",
    "train.head()"
   ]
  },
  {
   "cell_type": "code",
   "execution_count": 3,
   "metadata": {},
   "outputs": [
    {
     "data": {
      "text/html": [
       "<div>\n",
       "<style scoped>\n",
       "    .dataframe tbody tr th:only-of-type {\n",
       "        vertical-align: middle;\n",
       "    }\n",
       "\n",
       "    .dataframe tbody tr th {\n",
       "        vertical-align: top;\n",
       "    }\n",
       "\n",
       "    .dataframe thead th {\n",
       "        text-align: right;\n",
       "    }\n",
       "</style>\n",
       "<table border=\"1\" class=\"dataframe\">\n",
       "  <thead>\n",
       "    <tr style=\"text-align: right;\">\n",
       "      <th></th>\n",
       "      <th>MATRICULA</th>\n",
       "      <th>IDADE</th>\n",
       "      <th>NASCIMENTO</th>\n",
       "      <th>SEXO</th>\n",
       "      <th>IMC</th>\n",
       "      <th>FILHOS</th>\n",
       "      <th>FUMANTE</th>\n",
       "      <th>SIGNO</th>\n",
       "      <th>REGIÃO</th>\n",
       "      <th>FACEBOOK</th>\n",
       "      <th>CLASSE</th>\n",
       "      <th>VALOR</th>\n",
       "    </tr>\n",
       "  </thead>\n",
       "  <tbody>\n",
       "    <tr>\n",
       "      <th>0</th>\n",
       "      <td>1123</td>\n",
       "      <td>22.0</td>\n",
       "      <td>1997-07-27</td>\n",
       "      <td>F</td>\n",
       "      <td>21.280</td>\n",
       "      <td>3.0</td>\n",
       "      <td>0</td>\n",
       "      <td>Leão</td>\n",
       "      <td>4.0</td>\n",
       "      <td>1.0</td>\n",
       "      <td>4</td>\n",
       "      <td>NaN</td>\n",
       "    </tr>\n",
       "    <tr>\n",
       "      <th>1</th>\n",
       "      <td>743</td>\n",
       "      <td>36.0</td>\n",
       "      <td>1983-08-12</td>\n",
       "      <td>F</td>\n",
       "      <td>25.840</td>\n",
       "      <td>0.0</td>\n",
       "      <td>0</td>\n",
       "      <td>Leão</td>\n",
       "      <td>4.0</td>\n",
       "      <td>1.0</td>\n",
       "      <td>4</td>\n",
       "      <td>NaN</td>\n",
       "    </tr>\n",
       "    <tr>\n",
       "      <th>2</th>\n",
       "      <td>1151</td>\n",
       "      <td>21.0</td>\n",
       "      <td>1998-06-20</td>\n",
       "      <td>M</td>\n",
       "      <td>28.975</td>\n",
       "      <td>0.0</td>\n",
       "      <td>0</td>\n",
       "      <td>Gêmeos</td>\n",
       "      <td>4.0</td>\n",
       "      <td>1.0</td>\n",
       "      <td>5</td>\n",
       "      <td>NaN</td>\n",
       "    </tr>\n",
       "    <tr>\n",
       "      <th>3</th>\n",
       "      <td>451</td>\n",
       "      <td>47.0</td>\n",
       "      <td>1972-09-22</td>\n",
       "      <td>M</td>\n",
       "      <td>25.460</td>\n",
       "      <td>2.0</td>\n",
       "      <td>0</td>\n",
       "      <td>Virgem</td>\n",
       "      <td>2.0</td>\n",
       "      <td>1.0</td>\n",
       "      <td>4</td>\n",
       "      <td>NaN</td>\n",
       "    </tr>\n",
       "    <tr>\n",
       "      <th>4</th>\n",
       "      <td>12</td>\n",
       "      <td>64.0</td>\n",
       "      <td>1955-11-17</td>\n",
       "      <td>F</td>\n",
       "      <td>30.115</td>\n",
       "      <td>3.0</td>\n",
       "      <td>0</td>\n",
       "      <td>NaN</td>\n",
       "      <td>4.0</td>\n",
       "      <td>0.0</td>\n",
       "      <td>6</td>\n",
       "      <td>NaN</td>\n",
       "    </tr>\n",
       "  </tbody>\n",
       "</table>\n",
       "</div>"
      ],
      "text/plain": [
       "   MATRICULA  IDADE NASCIMENTO SEXO     IMC  FILHOS  FUMANTE   SIGNO  REGIÃO  \\\n",
       "0       1123   22.0 1997-07-27    F  21.280     3.0        0    Leão     4.0   \n",
       "1        743   36.0 1983-08-12    F  25.840     0.0        0    Leão     4.0   \n",
       "2       1151   21.0 1998-06-20    M  28.975     0.0        0  Gêmeos     4.0   \n",
       "3        451   47.0 1972-09-22    M  25.460     2.0        0  Virgem     2.0   \n",
       "4         12   64.0 1955-11-17    F  30.115     3.0        0     NaN     4.0   \n",
       "\n",
       "   FACEBOOK  CLASSE  VALOR  \n",
       "0       1.0       4    NaN  \n",
       "1       1.0       4    NaN  \n",
       "2       1.0       5    NaN  \n",
       "3       1.0       4    NaN  \n",
       "4       0.0       6    NaN  "
      ]
     },
     "execution_count": 3,
     "metadata": {},
     "output_type": "execute_result"
    }
   ],
   "source": [
    "test.head()"
   ]
  },
  {
   "cell_type": "markdown",
   "metadata": {},
   "source": [
    "# Exploration about data variables"
   ]
  },
  {
   "cell_type": "code",
   "execution_count": 4,
   "metadata": {},
   "outputs": [
    {
     "data": {
      "text/plain": [
       "count     1204\n",
       "unique       2\n",
       "top          M\n",
       "freq       612\n",
       "Name: SEXO, dtype: object"
      ]
     },
     "execution_count": 4,
     "metadata": {},
     "output_type": "execute_result"
    }
   ],
   "source": [
    "train['SEXO'].describe()"
   ]
  },
  {
   "cell_type": "code",
   "execution_count": 5,
   "metadata": {},
   "outputs": [
    {
     "data": {
      "image/png": "[encoded data removed]",
      "text/plain": [
       "<Figure size 720x360 with 1 Axes>"
      ]
     },
     "metadata": {
      "needs_background": "light"
     },
     "output_type": "display_data"
    }
   ],
   "source": [
    "train['CLASSE'].value_counts().to_frame().plot(kind='bar', figsize=(10,5))\n",
    "\n",
    "plt.title('Users Class')\n",
    "plt.ylabel('Quantity')\n",
    "plt.xlabel('Class')\n",
    "plt.show()"
   ]
  },
  {
   "cell_type": "code",
   "execution_count": 6,
   "metadata": {},
   "outputs": [
    {
     "data": {
      "text/plain": [
       "count       1205\n",
       "unique        12\n",
       "top       Câncer\n",
       "freq         116\n",
       "Name: SIGNO, dtype: object"
      ]
     },
     "execution_count": 6,
     "metadata": {},
     "output_type": "execute_result"
    }
   ],
   "source": [
    "train['SIGNO'].describe()"
   ]
  },
  {
   "cell_type": "code",
   "execution_count": 7,
   "metadata": {},
   "outputs": [
    {
     "data": {
      "text/plain": [
       "Câncer         116\n",
       "Aquário        116\n",
       "Áries          108\n",
       "Gêmeos         105\n",
       "Peixes         103\n",
       "Libra          100\n",
       "Capricórnio    100\n",
       "Escorpião       99\n",
       "Touro           94\n",
       "Sagitário       94\n",
       "Leão            86\n",
       "Virgem          84\n",
       "Name: SIGNO, dtype: int64"
      ]
     },
     "execution_count": 7,
     "metadata": {},
     "output_type": "execute_result"
    }
   ],
   "source": [
    "train['SIGNO'].value_counts()"
   ]
  },
  {
   "cell_type": "code",
   "execution_count": 8,
   "metadata": {},
   "outputs": [
    {
     "data": {
      "image/png": "[encoded data removed]",
      "text/plain": [
       "<Figure size 720x360 with 1 Axes>"
      ]
     },
     "metadata": {
      "needs_background": "light"
     },
     "output_type": "display_data"
    }
   ],
   "source": [
    "train.groupby('SEXO')['VALOR'].mean().plot(kind='bar', figsize=(10,5))\n",
    "\n",
    "plt.title('Mean per sex')\n",
    "plt.ylabel('Mean money spended')\n",
    "plt.xlabel('SEX')\n",
    "plt.show()"
   ]
  },
  {
   "cell_type": "code",
   "execution_count": 9,
   "metadata": {},
   "outputs": [
    {
     "data": {
      "image/png": "[encoded data removed]",
      "text/plain": [
       "<Figure size 720x360 with 1 Axes>"
      ]
     },
     "metadata": {
      "needs_background": "light"
     },
     "output_type": "display_data"
    }
   ],
   "source": [
    "train.groupby('SEXO')['FUMANTE'].value_counts().to_frame().plot(kind='barh', figsize=(10,5))\n",
    "\n",
    "plt.title('Smoker per sex')\n",
    "plt.ylabel('Quantity')\n",
    "plt.xlabel('SEX,SMOKER')\n",
    "plt.show()"
   ]
  },
  {
   "cell_type": "markdown",
   "metadata": {},
   "source": [
    "## Smoker correlation with  money spended\n",
    "- Smokers spend more money. "
   ]
  },
  {
   "cell_type": "code",
   "execution_count": 10,
   "metadata": {},
   "outputs": [
    {
     "data": {
      "image/png": "[encoded data removed]",
      "text/plain": [
       "<Figure size 720x360 with 1 Axes>"
      ]
     },
     "metadata": {
      "needs_background": "light"
     },
     "output_type": "display_data"
    }
   ],
   "source": [
    "train.groupby(['SEXO','FUMANTE'])['VALOR'].mean().to_frame().plot(kind='barh', figsize=(10,5))\n",
    "\n",
    "plt.title('Smoker and money correlation')\n",
    "plt.ylabel('Sex,Smoker')\n",
    "plt.xlabel('Mean money Spended')\n",
    "plt.show()"
   ]
  },
  {
   "cell_type": "markdown",
   "metadata": {},
   "source": [
    "## Age correlantion with money spended\n",
    "- Old people spend more money "
   ]
  },
  {
   "cell_type": "code",
   "execution_count": 11,
   "metadata": {},
   "outputs": [
    {
     "data": {
      "image/png": "[encoded data removed]",
      "text/plain": [
       "<Figure size 720x360 with 1 Axes>"
      ]
     },
     "metadata": {
      "needs_background": "light"
     },
     "output_type": "display_data"
    }
   ],
   "source": [
    "mean_female_b40 = train.loc[(train['IDADE'] > 40) & (train['SEXO'] == 'F')]['VALOR'].mean()\n",
    "mean_female_l40 = train.loc[(train['IDADE'] <= 40) & (train['SEXO'] == 'F')]['VALOR'].mean()\n",
    "mean_male_b40 = train.loc[(train['IDADE'] > 40) & (train['SEXO'] == 'M')]['VALOR'].mean()\n",
    "mean_male_l40 = train.loc[(train['IDADE'] <= 40) & (train['SEXO'] == 'M')]['VALOR'].mean()\n",
    "\n",
    "data_age = {'WOMEN': [mean_female_b40,mean_female_l40], 'MEN':[mean_male_b40,mean_male_l40]}\n",
    "\n",
    "df_wm_age = pd.DataFrame(data_age, index = ['Bigger than 40', 'Smaller equal 40'])\n",
    "df_wm_age.plot(kind='barh', figsize=(10,5))\n",
    "\n",
    "plt.title('Age and money correlation')\n",
    "plt.ylabel('Age')\n",
    "plt.xlabel('Mean money Spended')\n",
    "plt.show()"
   ]
  },
  {
   "cell_type": "markdown",
   "metadata": {},
   "source": [
    "## BMI correlation with money spended\n",
    "- Between 18.5 e 24.9 is normal weight\n",
    "- Between 25 and 29.9 is overweight\n",
    "- Bigger than 29.9 is obesity\n",
    "\n",
    "###### Bibliography: https://www.google.com/amp/s/www.bbc.com/portuguese/geral-46311722.amp"
   ]
  },
  {
   "cell_type": "code",
   "execution_count": 12,
   "metadata": {},
   "outputs": [
    {
     "data": {
      "image/png": "[encoded data removed]",
      "text/plain": [
       "<Figure size 720x360 with 1 Axes>"
      ]
     },
     "metadata": {
      "needs_background": "light"
     },
     "output_type": "display_data"
    }
   ],
   "source": [
    "normal = train.loc[(train['IMC'] >= 18.5) & (train['IMC'] <= 24.9)]['VALOR'].mean()\n",
    "overweight = train.loc[(train['IMC'] >= 25) & (train['IMC'] <= 29.9)]['VALOR'].mean()\n",
    "obesity = train.loc[train['IMC'] > 29.9]['VALOR'].mean()\n",
    "\n",
    "data_weight = {'Normal': [normal], 'Overweight': [overweight], 'Obesity': [obesity]}\n",
    "\n",
    "df_bmi = pd.DataFrame(data_weight, index = ['Weight'])\n",
    "df_bmi.plot(kind='barh', figsize=(10,5))\n",
    "\n",
    "plt.title('BMI and money correlation')\n",
    "plt.ylabel('Weight')\n",
    "plt.xlabel('Mean money Spended')\n",
    "plt.show()"
   ]
  },
  {
   "cell_type": "markdown",
   "metadata": {},
   "source": [
    "## Regions correlation with money spended"
   ]
  },
  {
   "cell_type": "code",
   "execution_count": 13,
   "metadata": {},
   "outputs": [
    {
     "data": {
      "image/png": "[encoded data removed]",
      "text/plain": [
       "<Figure size 720x360 with 1 Axes>"
      ]
     },
     "metadata": {
      "needs_background": "light"
     },
     "output_type": "display_data"
    }
   ],
   "source": [
    "train.groupby('REGIÃO')['VALOR'].mean().plot(kind='bar', figsize=(10,5))\n",
    "plt.title('Region correlation with money spended')\n",
    "plt.ylabel('Mean money spended')\n",
    "plt.xlabel('Region')\n",
    "plt.show()"
   ]
  },
  {
   "cell_type": "markdown",
   "metadata": {},
   "source": [
    "## Facebook and Class correlation with money spended"
   ]
  },
  {
   "cell_type": "code",
   "execution_count": 14,
   "metadata": {},
   "outputs": [
    {
     "data": {
      "image/png": "[encoded data removed]",
      "text/plain": [
       "<Figure size 720x360 with 1 Axes>"
      ]
     },
     "metadata": {
      "needs_background": "light"
     },
     "output_type": "display_data"
    }
   ],
   "source": [
    "train.groupby('FACEBOOK')['VALOR'].mean().plot(kind='bar', figsize=(10,5))\n",
    "plt.title('Facebook correlation with money spended')\n",
    "plt.ylabel('Mean money spended')\n",
    "plt.xlabel('Facebook')\n",
    "plt.show()"
   ]
  },
  {
   "cell_type": "code",
   "execution_count": 15,
   "metadata": {},
   "outputs": [
    {
     "data": {
      "image/png": "[encoded data removed]",
      "text/plain": [
       "<Figure size 720x360 with 1 Axes>"
      ]
     },
     "metadata": {
      "needs_background": "light"
     },
     "output_type": "display_data"
    }
   ],
   "source": [
    "train.groupby('CLASSE')['VALOR'].mean().plot(kind='bar', figsize=(10,5))\n",
    "plt.title('Class correlation with money spended')\n",
    "plt.ylabel('Mean money spended')\n",
    "plt.xlabel('Class')\n",
    "plt.show()"
   ]
  },
  {
   "cell_type": "markdown",
   "metadata": {},
   "source": [
    "## Sons correlation with money spended"
   ]
  },
  {
   "cell_type": "code",
   "execution_count": 16,
   "metadata": {},
   "outputs": [
    {
     "data": {
      "image/png": "[encoded data removed]",
      "text/plain": [
       "<Figure size 720x360 with 1 Axes>"
      ]
     },
     "metadata": {
      "needs_background": "light"
     },
     "output_type": "display_data"
    }
   ],
   "source": [
    "train.groupby('FILHOS')['VALOR'].mean().plot(kind='bar', figsize=(10,5))\n",
    "plt.title('Sons correlation with money spended')\n",
    "plt.ylabel('Mean money spended')\n",
    "plt.xlabel('Sons quantity')\n",
    "plt.show()"
   ]
  },
  {
   "cell_type": "markdown",
   "metadata": {},
   "source": [
    "## Signs correlation with money spended"
   ]
  },
  {
   "cell_type": "code",
   "execution_count": 17,
   "metadata": {},
   "outputs": [
    {
     "data": {
      "image/png": "[encoded data removed]",
      "text/plain": [
       "<Figure size 720x360 with 1 Axes>"
      ]
     },
     "metadata": {
      "needs_background": "light"
     },
     "output_type": "display_data"
    }
   ],
   "source": [
    "train.groupby('SIGNO')['VALOR'].mean().plot(kind='barh', figsize=(10,5))\n",
    "plt.title('Sign correlation with money spended')\n",
    "plt.ylabel('Sign')\n",
    "plt.xlabel('Mean money spended')\n",
    "plt.show()"
   ]
  },
  {
   "cell_type": "markdown",
   "metadata": {},
   "source": [
    "# Preparing Data For Training"
   ]
  },
  {
   "cell_type": "markdown",
   "metadata": {},
   "source": [
    "## One hot encode"
   ]
  },
  {
   "cell_type": "code",
   "execution_count": 18,
   "metadata": {},
   "outputs": [],
   "source": [
    "train = pd.concat([train, pd.get_dummies(train['SIGNO'])], axis=1)\n",
    "test =  pd.concat([test, pd.get_dummies(test['SIGNO'])], axis=1)        "
   ]
  },
  {
   "cell_type": "code",
   "execution_count": 19,
   "metadata": {},
   "outputs": [],
   "source": [
    "def one_hot_encode_sex(value):\n",
    "    if value == 'F':\n",
    "        return 1\n",
    "    else:\n",
    "        return 0\n",
    "    \n",
    "train['SEXO_BINARIO'] = train['SEXO'].map(one_hot_encode_sex)\n",
    "test['SEXO_BINARIO'] = test['SEXO'].map(one_hot_encode_sex)"
   ]
  },
  {
   "cell_type": "markdown",
   "metadata": {},
   "source": [
    "### Encoding Y for training"
   ]
  },
  {
   "cell_type": "code",
   "execution_count": 20,
   "metadata": {},
   "outputs": [
    {
     "data": {
      "text/plain": [
       "array([ 690,  409, 1038, ..., 1107,  726,  795], dtype=int64)"
      ]
     },
     "execution_count": 20,
     "metadata": {},
     "output_type": "execute_result"
    }
   ],
   "source": [
    "from sklearn import preprocessing\n",
    "from sklearn import utils\n",
    "\n",
    "lab_enc = preprocessing.LabelEncoder()\n",
    "y_encoded = lab_enc.fit_transform(train['VALOR'].fillna(-1))\n",
    "\n",
    "y_encoded"
   ]
  },
  {
   "cell_type": "code",
   "execution_count": 21,
   "metadata": {},
   "outputs": [],
   "source": [
    "variables = ['IDADE','IMC','FILHOS','FUMANTE','REGIÃO','FACEBOOK','CLASSE','SEXO_BINARIO', 'Câncer', 'Escorpião',\n",
    "            'Gêmeos', 'Leão', 'Libra', 'Peixes', 'Sagitário', 'Touro', 'Virgem', 'Áries']\n",
    "\n",
    "X = train[variables]\n",
    "y = y_encoded\n",
    "\n",
    "X = X.fillna(-1)\n",
    "\n",
    "X_test = test[variables]\n",
    "test_final = test[variables].fillna(-1)\n",
    "X_test = X_test.fillna(-1)"
   ]
  },
  {
   "cell_type": "code",
   "execution_count": 22,
   "metadata": {},
   "outputs": [],
   "source": [
    "np.random.seed(1)\n",
    "X_train, X_valid, y_train, y_valid = train_test_split(X, y, test_size=0.5)"
   ]
  },
  {
   "cell_type": "code",
   "execution_count": 23,
   "metadata": {},
   "outputs": [
    {
     "data": {
      "text/html": [
       "<div>\n",
       "<style scoped>\n",
       "    .dataframe tbody tr th:only-of-type {\n",
       "        vertical-align: middle;\n",
       "    }\n",
       "\n",
       "    .dataframe tbody tr th {\n",
       "        vertical-align: top;\n",
       "    }\n",
       "\n",
       "    .dataframe thead th {\n",
       "        text-align: right;\n",
       "    }\n",
       "</style>\n",
       "<table border=\"1\" class=\"dataframe\">\n",
       "  <thead>\n",
       "    <tr style=\"text-align: right;\">\n",
       "      <th></th>\n",
       "      <th>IDADE</th>\n",
       "      <th>IMC</th>\n",
       "      <th>FILHOS</th>\n",
       "      <th>FUMANTE</th>\n",
       "      <th>REGIÃO</th>\n",
       "      <th>FACEBOOK</th>\n",
       "      <th>CLASSE</th>\n",
       "      <th>SEXO_BINARIO</th>\n",
       "      <th>Câncer</th>\n",
       "      <th>Escorpião</th>\n",
       "      <th>Gêmeos</th>\n",
       "      <th>Leão</th>\n",
       "      <th>Libra</th>\n",
       "      <th>Peixes</th>\n",
       "      <th>Sagitário</th>\n",
       "      <th>Touro</th>\n",
       "      <th>Virgem</th>\n",
       "      <th>Áries</th>\n",
       "    </tr>\n",
       "  </thead>\n",
       "  <tbody>\n",
       "    <tr>\n",
       "      <th>0</th>\n",
       "      <td>56.0</td>\n",
       "      <td>39.600</td>\n",
       "      <td>0.0</td>\n",
       "      <td>0.0</td>\n",
       "      <td>3.0</td>\n",
       "      <td>0.0</td>\n",
       "      <td>7.0</td>\n",
       "      <td>0</td>\n",
       "      <td>0</td>\n",
       "      <td>0</td>\n",
       "      <td>0</td>\n",
       "      <td>0</td>\n",
       "      <td>0</td>\n",
       "      <td>0</td>\n",
       "      <td>0</td>\n",
       "      <td>0</td>\n",
       "      <td>0</td>\n",
       "      <td>0</td>\n",
       "    </tr>\n",
       "    <tr>\n",
       "      <th>1</th>\n",
       "      <td>32.0</td>\n",
       "      <td>37.145</td>\n",
       "      <td>3.0</td>\n",
       "      <td>0.0</td>\n",
       "      <td>2.0</td>\n",
       "      <td>1.0</td>\n",
       "      <td>2.0</td>\n",
       "      <td>1</td>\n",
       "      <td>0</td>\n",
       "      <td>0</td>\n",
       "      <td>0</td>\n",
       "      <td>0</td>\n",
       "      <td>1</td>\n",
       "      <td>0</td>\n",
       "      <td>0</td>\n",
       "      <td>0</td>\n",
       "      <td>0</td>\n",
       "      <td>0</td>\n",
       "    </tr>\n",
       "    <tr>\n",
       "      <th>2</th>\n",
       "      <td>47.0</td>\n",
       "      <td>24.100</td>\n",
       "      <td>1.0</td>\n",
       "      <td>0.0</td>\n",
       "      <td>3.0</td>\n",
       "      <td>1.0</td>\n",
       "      <td>7.0</td>\n",
       "      <td>1</td>\n",
       "      <td>0</td>\n",
       "      <td>0</td>\n",
       "      <td>0</td>\n",
       "      <td>0</td>\n",
       "      <td>0</td>\n",
       "      <td>0</td>\n",
       "      <td>0</td>\n",
       "      <td>0</td>\n",
       "      <td>0</td>\n",
       "      <td>0</td>\n",
       "    </tr>\n",
       "    <tr>\n",
       "      <th>3</th>\n",
       "      <td>41.0</td>\n",
       "      <td>30.780</td>\n",
       "      <td>3.0</td>\n",
       "      <td>1.0</td>\n",
       "      <td>2.0</td>\n",
       "      <td>1.0</td>\n",
       "      <td>6.0</td>\n",
       "      <td>0</td>\n",
       "      <td>0</td>\n",
       "      <td>0</td>\n",
       "      <td>0</td>\n",
       "      <td>0</td>\n",
       "      <td>0</td>\n",
       "      <td>0</td>\n",
       "      <td>0</td>\n",
       "      <td>0</td>\n",
       "      <td>0</td>\n",
       "      <td>0</td>\n",
       "    </tr>\n",
       "    <tr>\n",
       "      <th>4</th>\n",
       "      <td>23.0</td>\n",
       "      <td>37.100</td>\n",
       "      <td>3.0</td>\n",
       "      <td>0.0</td>\n",
       "      <td>3.0</td>\n",
       "      <td>1.0</td>\n",
       "      <td>4.0</td>\n",
       "      <td>0</td>\n",
       "      <td>0</td>\n",
       "      <td>0</td>\n",
       "      <td>0</td>\n",
       "      <td>0</td>\n",
       "      <td>1</td>\n",
       "      <td>0</td>\n",
       "      <td>0</td>\n",
       "      <td>0</td>\n",
       "      <td>0</td>\n",
       "      <td>0</td>\n",
       "    </tr>\n",
       "  </tbody>\n",
       "</table>\n",
       "</div>"
      ],
      "text/plain": [
       "   IDADE     IMC  FILHOS  FUMANTE  REGIÃO  FACEBOOK  CLASSE  SEXO_BINARIO  \\\n",
       "0   56.0  39.600     0.0      0.0     3.0       0.0     7.0             0   \n",
       "1   32.0  37.145     3.0      0.0     2.0       1.0     2.0             1   \n",
       "2   47.0  24.100     1.0      0.0     3.0       1.0     7.0             1   \n",
       "3   41.0  30.780     3.0      1.0     2.0       1.0     6.0             0   \n",
       "4   23.0  37.100     3.0      0.0     3.0       1.0     4.0             0   \n",
       "\n",
       "   Câncer  Escorpião  Gêmeos  Leão  Libra  Peixes  Sagitário  Touro  Virgem  \\\n",
       "0       0          0       0     0      0       0          0      0       0   \n",
       "1       0          0       0     0      1       0          0      0       0   \n",
       "2       0          0       0     0      0       0          0      0       0   \n",
       "3       0          0       0     0      0       0          0      0       0   \n",
       "4       0          0       0     0      1       0          0      0       0   \n",
       "\n",
       "   Áries  \n",
       "0      0  \n",
       "1      0  \n",
       "2      0  \n",
       "3      0  \n",
       "4      0  "
      ]
     },
     "execution_count": 23,
     "metadata": {},
     "output_type": "execute_result"
    }
   ],
   "source": [
    "X.head()"
   ]
  },
  {
   "cell_type": "code",
   "execution_count": 24,
   "metadata": {},
   "outputs": [
    {
     "data": {
      "text/plain": [
       "((605, 18), (606, 18), (605,), (606,))"
      ]
     },
     "execution_count": 24,
     "metadata": {},
     "output_type": "execute_result"
    }
   ],
   "source": [
    "X_train.shape, X_valid.shape, y_train.shape, y_valid.shape"
   ]
  },
  {
   "cell_type": "code",
   "execution_count": 25,
   "metadata": {},
   "outputs": [],
   "source": [
    "from sklearn.preprocessing import StandardScaler\n",
    "\n",
    "sc = StandardScaler()\n",
    "X_train = sc.fit_transform(X_train)\n",
    "X_valid = sc.transform(X_valid)\n",
    "\n",
    "X_test = sc.fit_transform(X_test)"
   ]
  },
  {
   "cell_type": "code",
   "execution_count": 26,
   "metadata": {},
   "outputs": [],
   "source": [
    "from sklearn.ensemble import RandomForestRegressor\n",
    "\n",
    "regressor = RandomForestRegressor(n_estimators=100, random_state=42)\n",
    "regressor.fit(X_train, y_train)\n",
    "y_pred = regressor.predict(X_valid)"
   ]
  },
  {
   "cell_type": "code",
   "execution_count": 27,
   "metadata": {},
   "outputs": [
    {
     "name": "stdout",
     "output_type": "stream",
     "text": [
      "Mean Absolute Error: 90.08777227722773\n",
      "Mean Squared Error: 28627.897653960397\n",
      "Root Mean Squared Error: 169.19780629180863\n"
     ]
    }
   ],
   "source": [
    "from sklearn import metrics\n",
    "\n",
    "print('Mean Absolute Error:', metrics.mean_absolute_error(y_valid, y_pred))\n",
    "print('Mean Squared Error:', metrics.mean_squared_error(y_valid, y_pred))\n",
    "print('Root Mean Squared Error:', np.sqrt(metrics.mean_squared_error(y_valid, y_pred)))"
   ]
  },
  {
   "cell_type": "code",
   "execution_count": 28,
   "metadata": {},
   "outputs": [],
   "source": [
    "from sklearn.linear_model import LogisticRegression\n",
    "\n",
    "model = LogisticRegression()\n",
    "model.fit(X_train, y_train)\n",
    "p = model.predict(X_valid)"
   ]
  },
  {
   "cell_type": "code",
   "execution_count": 29,
   "metadata": {},
   "outputs": [
    {
     "name": "stdout",
     "output_type": "stream",
     "text": [
      "Mean Absolute Error: 179.98019801980197\n",
      "Mean Squared Error: 74469.80858085808\n",
      "Root Mean Squared Error: 272.89156927405816\n"
     ]
    }
   ],
   "source": [
    "print('Mean Absolute Error:', metrics.mean_absolute_error(y_valid, p))\n",
    "print('Mean Squared Error:', metrics.mean_squared_error(y_valid, p))\n",
    "print('Root Mean Squared Error:', np.sqrt(metrics.mean_squared_error(y_valid, p)))"
   ]
  },
  {
   "cell_type": "code",
   "execution_count": 30,
   "metadata": {},
   "outputs": [
    {
     "name": "stdout",
     "output_type": "stream",
     "text": [
      "Mean Absolute Error: 99.26625994797446\n",
      "Mean Squared Error: 29754.95007791813\n",
      "Root Mean Squared Error: 172.496232068756\n"
     ]
    }
   ],
   "source": [
    "from lightgbm import LGBMRegressor\n",
    "\n",
    "model_lgbm = LGBMRegressor(subsample=0.9)\n",
    "model_lgbm.fit(X_train, y_train)\n",
    "p_lgbm = model_lgbm.predict(X_valid)\n",
    "\n",
    "print('Mean Absolute Error:', metrics.mean_absolute_error(y_valid, p_lgbm))\n",
    "print('Mean Squared Error:', metrics.mean_squared_error(y_valid, p_lgbm))\n",
    "print('Root Mean Squared Error:', np.sqrt(metrics.mean_squared_error(y_valid, p_lgbm)))"
   ]
  },
  {
   "cell_type": "code",
   "execution_count": 31,
   "metadata": {},
   "outputs": [
    {
     "data": {
      "image/png": "[encoded data removed]",
      "text/plain": [
       "<Figure size 720x360 with 1 Axes>"
      ]
     },
     "metadata": {
      "needs_background": "light"
     },
     "output_type": "display_data"
    }
   ],
   "source": [
    "data = {'Mean Absolute Error': [metrics.mean_absolute_error(y_valid, y_pred), metrics.mean_absolute_error(y_valid, p), metrics.mean_absolute_error(y_valid, p_lgbm)],\n",
    "        'Mean Squared Error': [metrics.mean_squared_error(y_valid, y_pred),metrics.mean_squared_error(y_valid, p),metrics.mean_squared_error(y_valid, p_lgbm)],\n",
    "        'Root Mean Squared Error': [np.sqrt(metrics.mean_squared_error(y_valid, y_pred)), np.sqrt(metrics.mean_squared_error(y_valid, p)), np.sqrt(metrics.mean_squared_error(y_valid, p_lgbm))]}\n",
    "\n",
    "df_scores= pd.DataFrame(data, index=['RandomForestRegressor', 'LogisticRegression', 'LGBMRegressor'])\n",
    "df_scores.plot(kind='barh', figsize=(10,5))\n",
    "\n",
    "plt.title('Error Measures of the algorithms')\n",
    "plt.ylabel('Error Measures')\n",
    "plt.xlabel('Error Value')\n",
    "plt.show()"
   ]
  },
  {
   "cell_type": "code",
   "execution_count": 32,
   "metadata": {},
   "outputs": [
    {
     "data": {
      "image/png": "[encoded data removed]",
      "text/plain": [
       "<Figure size 720x360 with 1 Axes>"
      ]
     },
     "metadata": {
      "needs_background": "light"
     },
     "output_type": "display_data"
    }
   ],
   "source": [
    "df_scores.drop(['Mean Squared Error'], axis=1).plot(kind='barh', figsize=(10,5))\n",
    "\n",
    "plt.title('Error Measures of the algorithms without Mean Squared Error')\n",
    "plt.ylabel('Error Measures')\n",
    "plt.xlabel('Error Value')\n",
    "plt.show()"
   ]
  },
  {
   "cell_type": "markdown",
   "metadata": {},
   "source": [
    "## Example use the test_final dataset"
   ]
  },
  {
   "cell_type": "code",
   "execution_count": 33,
   "metadata": {},
   "outputs": [],
   "source": [
    "from sklearn.ensemble import RandomForestRegressor\n",
    "\n",
    "regressor_ft = RandomForestRegressor(n_estimators=100, random_state=42)\n",
    "regressor_ft.fit(X_train, y_train)\n",
    "y_pred_ft = regressor_ft.predict(X_test)\n",
    "\n",
    "# y_pred_ft"
   ]
  },
  {
   "cell_type": "markdown",
   "metadata": {},
   "source": [
    "# I Have choosen 3 algorithms for this test, and the 2 more relevant is Random Forest and LGBMRegressor."
   ]
  },
  {
   "cell_type": "markdown",
   "metadata": {},
   "source": [
    "## Search best model by Cross Validation - Random Forest"
   ]
  },
  {
   "cell_type": "code",
   "execution_count": 34,
   "metadata": {},
   "outputs": [
    {
     "name": "stdout",
     "output_type": "stream",
     "text": [
      "{'n_estimators': [200, 400, 600, 800, 1000, 1200, 1400, 1600, 1800, 2000], 'max_features': ['auto', 'sqrt'], 'max_depth': [10, 20, 30, 40, 50, 60, 70, 80, 90, 100, 110, None], 'min_samples_split': [2, 5, 10], 'min_samples_leaf': [1, 2, 4], 'bootstrap': [True, False]}\n"
     ]
    }
   ],
   "source": [
    "from sklearn.model_selection import RandomizedSearchCV\n",
    "\n",
    "# On each iteration, the algorithm will choose a difference combination of the features.\n",
    "# Altogether, there are 2 * 12 * 2 * 3 * 3 * 10 = 4320 settings!\n",
    "\n",
    "random_forest = RandomForestRegressor(n_estimators=100, random_state=42)\n",
    "random_forest.get_params()\n",
    "# Number of trees in random forest\n",
    "n_estimators = [int(x) for x in np.linspace(start = 200, stop = 2000, num = 10)]\n",
    "# Number of features to consider at every split\n",
    "max_features = ['auto', 'sqrt']\n",
    "# Maximum number of levels in tree\n",
    "max_depth = [int(x) for x in np.linspace(10, 110, num = 11)]\n",
    "max_depth.append(None)\n",
    "# Minimum number of samples required to split a node\n",
    "min_samples_split = [2, 5, 10]\n",
    "# Minimum number of samples required at each leaf node\n",
    "min_samples_leaf = [1, 2, 4]\n",
    "# Method of selecting samples for training each tree\n",
    "bootstrap = [True, False]\n",
    "# Create the random grid\n",
    "random_grid = {'n_estimators': n_estimators,\n",
    "               'max_features': max_features,\n",
    "               'max_depth': max_depth,\n",
    "               'min_samples_split': min_samples_split,\n",
    "               'min_samples_leaf': min_samples_leaf,\n",
    "               'bootstrap': bootstrap}\n",
    "print(random_grid)"
   ]
  },
  {
   "cell_type": "code",
   "execution_count": 35,
   "metadata": {},
   "outputs": [
    {
     "name": "stdout",
     "output_type": "stream",
     "text": [
      "Fitting 3 folds for each of 100 candidates, totalling 300 fits\n"
     ]
    },
    {
     "name": "stderr",
     "output_type": "stream",
     "text": [
      "[Parallel(n_jobs=-1)]: Using backend LokyBackend with 4 concurrent workers.\n",
      "[Parallel(n_jobs=-1)]: Done  33 tasks      | elapsed:   42.9s\n",
      "[Parallel(n_jobs=-1)]: Done 154 tasks      | elapsed:  2.7min\n",
      "[Parallel(n_jobs=-1)]: Done 300 out of 300 | elapsed:  5.3min finished\n"
     ]
    },
    {
     "data": {
      "text/plain": [
       "RandomizedSearchCV(cv=3, estimator=RandomForestRegressor(), n_iter=100,\n",
       "                   n_jobs=-1,\n",
       "                   param_distributions={'bootstrap': [True, False],\n",
       "                                        'max_depth': [10, 20, 30, 40, 50, 60,\n",
       "                                                      70, 80, 90, 100, 110,\n",
       "                                                      None],\n",
       "                                        'max_features': ['auto', 'sqrt'],\n",
       "                                        'min_samples_leaf': [1, 2, 4],\n",
       "                                        'min_samples_split': [2, 5, 10],\n",
       "                                        'n_estimators': [200, 400, 600, 800,\n",
       "                                                         1000, 1200, 1400, 1600,\n",
       "                                                         1800, 2000]},\n",
       "                   random_state=42, scoring='neg_root_mean_squared_error',\n",
       "                   verbose=2)"
      ]
     },
     "execution_count": 35,
     "metadata": {},
     "output_type": "execute_result"
    }
   ],
   "source": [
    "# Use the random grid to search for best hyperparameters\n",
    "# First create the base model to tune\n",
    "rf = RandomForestRegressor()\n",
    "# Random search of parameters, using 3 fold cross validation, \n",
    "# search across 100 different combinations, and use all available cores\n",
    "rf_random = RandomizedSearchCV(estimator = rf, param_distributions = random_grid, n_iter = 100,\n",
    "                               cv = 3,scoring = 'neg_root_mean_squared_error', verbose=2, random_state=42, n_jobs = -1)\n",
    "# Fit the random search model\n",
    "rf_random.fit(X_train, y_train)"
   ]
  },
  {
   "cell_type": "code",
   "execution_count": 36,
   "metadata": {},
   "outputs": [
    {
     "name": "stdout",
     "output_type": "stream",
     "text": [
      "{'n_estimators': 400, 'min_samples_split': 10, 'min_samples_leaf': 4, 'max_features': 'auto', 'max_depth': 70, 'bootstrap': True}\n"
     ]
    }
   ],
   "source": [
    "best_params = rf_random.best_params_\n",
    "print(best_params)"
   ]
  },
  {
   "cell_type": "code",
   "execution_count": 37,
   "metadata": {},
   "outputs": [
    {
     "name": "stdout",
     "output_type": "stream",
     "text": [
      "Mean Absolute Error: 82.56888100758655\n",
      "Mean Squared Error: 24892.584973011628\n",
      "Root Mean Squared Error: 157.77384121904248\n"
     ]
    }
   ],
   "source": [
    "best_rf =  RandomForestRegressor(**best_params, random_state=42, n_jobs=-1)\n",
    "best_rf.fit(X_train, y_train)\n",
    "best_rf_pred = best_rf.predict(X_valid)\n",
    "\n",
    "print('Mean Absolute Error:', metrics.mean_absolute_error(y_valid, best_rf_pred))\n",
    "print('Mean Squared Error:', metrics.mean_squared_error(y_valid, best_rf_pred))\n",
    "print('Root Mean Squared Error:', np.sqrt(metrics.mean_squared_error(y_valid, best_rf_pred)))"
   ]
  },
  {
   "cell_type": "markdown",
   "metadata": {},
   "source": [
    "## Search best model by Cross Validation - LGBMRegressor"
   ]
  },
  {
   "cell_type": "code",
   "execution_count": 38,
   "metadata": {},
   "outputs": [],
   "source": [
    "# !pip install lightgbm\n",
    "from lightgbm import LGBMRegressor\n",
    "from scipy.stats import randint as sp_randint\n",
    "from scipy.stats import uniform"
   ]
  },
  {
   "cell_type": "code",
   "execution_count": 39,
   "metadata": {},
   "outputs": [
    {
     "name": "stdout",
     "output_type": "stream",
     "text": [
      "Fitting 3 folds for each of 100 candidates, totalling 300 fits\n",
      "[CV] colsample_bytree=0.3745401188473625, learning_rate=0.9507143064099162, max_depth=12, min_child_weight=1.5593820005455385, n_estimators=1244, num_leaves=122 \n"
     ]
    },
    {
     "name": "stderr",
     "output_type": "stream",
     "text": [
      "[Parallel(n_jobs=1)]: Using backend SequentialBackend with 1 concurrent workers.\n"
     ]
    },
    {
     "name": "stdout",
     "output_type": "stream",
     "text": [
      "[CV]  colsample_bytree=0.3745401188473625, learning_rate=0.9507143064099162, max_depth=12, min_child_weight=1.5593820005455385, n_estimators=1244, num_leaves=122, total=   0.7s\n",
      "[CV] colsample_bytree=0.3745401188473625, learning_rate=0.9507143064099162, max_depth=12, min_child_weight=1.5593820005455385, n_estimators=1244, num_leaves=122 \n"
     ]
    },
    {
     "name": "stderr",
     "output_type": "stream",
     "text": [
      "[Parallel(n_jobs=1)]: Done   1 out of   1 | elapsed:    0.6s remaining:    0.0s\n"
     ]
    },
    {
     "name": "stdout",
     "output_type": "stream",
     "text": [
      "[CV]  colsample_bytree=0.3745401188473625, learning_rate=0.9507143064099162, max_depth=12, min_child_weight=1.5593820005455385, n_estimators=1244, num_leaves=122, total=   0.8s\n",
      "[CV] colsample_bytree=0.3745401188473625, learning_rate=0.9507143064099162, max_depth=12, min_child_weight=1.5593820005455385, n_estimators=1244, num_leaves=122 \n",
      "[CV]  colsample_bytree=0.3745401188473625, learning_rate=0.9507143064099162, max_depth=12, min_child_weight=1.5593820005455385, n_estimators=1244, num_leaves=122, total=   0.6s\n",
      "[CV] colsample_bytree=0.44583275285359114, learning_rate=0.09997491581800289, max_depth=12, min_child_weight=1.7323522915498704, n_estimators=1323, num_leaves=123 \n",
      "[CV]  colsample_bytree=0.44583275285359114, learning_rate=0.09997491581800289, max_depth=12, min_child_weight=1.7323522915498704, n_estimators=1323, num_leaves=123, total=   0.7s\n",
      "[CV] colsample_bytree=0.44583275285359114, learning_rate=0.09997491581800289, max_depth=12, min_child_weight=1.7323522915498704, n_estimators=1323, num_leaves=123 \n",
      "[CV]  colsample_bytree=0.44583275285359114, learning_rate=0.09997491581800289, max_depth=12, min_child_weight=1.7323522915498704, n_estimators=1323, num_leaves=123, total=   0.9s\n",
      "[CV] colsample_bytree=0.44583275285359114, learning_rate=0.09997491581800289, max_depth=12, min_child_weight=1.7323522915498704, n_estimators=1323, num_leaves=123 \n",
      "[CV]  colsample_bytree=0.44583275285359114, learning_rate=0.09997491581800289, max_depth=12, min_child_weight=1.7323522915498704, n_estimators=1323, num_leaves=123, total=   0.7s\n",
      "[CV] colsample_bytree=0.7080725777960455, learning_rate=0.020584494295802447, max_depth=3, min_child_weight=1.4439975445336495, n_estimators=1005, num_leaves=149 \n",
      "[CV]  colsample_bytree=0.7080725777960455, learning_rate=0.020584494295802447, max_depth=3, min_child_weight=1.4439975445336495, n_estimators=1005, num_leaves=149, total=   0.2s\n",
      "[CV] colsample_bytree=0.7080725777960455, learning_rate=0.020584494295802447, max_depth=3, min_child_weight=1.4439975445336495, n_estimators=1005, num_leaves=149 \n",
      "[CV]  colsample_bytree=0.7080725777960455, learning_rate=0.020584494295802447, max_depth=3, min_child_weight=1.4439975445336495, n_estimators=1005, num_leaves=149, total=   0.2s\n",
      "[CV] colsample_bytree=0.7080725777960455, learning_rate=0.020584494295802447, max_depth=3, min_child_weight=1.4439975445336495, n_estimators=1005, num_leaves=149 \n",
      "[CV]  colsample_bytree=0.7080725777960455, learning_rate=0.020584494295802447, max_depth=3, min_child_weight=1.4439975445336495, n_estimators=1005, num_leaves=149, total=   0.2s\n",
      "[CV] colsample_bytree=0.18182496720710062, learning_rate=0.18340450985343382, max_depth=13, min_child_weight=1.2233063209765618, n_estimators=452, num_leaves=108 \n",
      "[CV]  colsample_bytree=0.18182496720710062, learning_rate=0.18340450985343382, max_depth=13, min_child_weight=1.2233063209765618, n_estimators=452, num_leaves=108, total=   0.2s\n",
      "[CV] colsample_bytree=0.18182496720710062, learning_rate=0.18340450985343382, max_depth=13, min_child_weight=1.2233063209765618, n_estimators=452, num_leaves=108 \n",
      "[CV]  colsample_bytree=0.18182496720710062, learning_rate=0.18340450985343382, max_depth=13, min_child_weight=1.2233063209765618, n_estimators=452, num_leaves=108, total=   0.2s\n",
      "[CV] colsample_bytree=0.18182496720710062, learning_rate=0.18340450985343382, max_depth=13, min_child_weight=1.2233063209765618, n_estimators=452, num_leaves=108 \n",
      "[CV]  colsample_bytree=0.18182496720710062, learning_rate=0.18340450985343382, max_depth=13, min_child_weight=1.2233063209765618, n_estimators=452, num_leaves=108, total=   0.2s\n",
      "[CV] colsample_bytree=0.2912291401980419, learning_rate=0.6118528947223795, max_depth=11, min_child_weight=0.09333132642723085, n_estimators=899, num_leaves=34 \n",
      "[CV]  colsample_bytree=0.2912291401980419, learning_rate=0.6118528947223795, max_depth=11, min_child_weight=0.09333132642723085, n_estimators=899, num_leaves=34, total=   0.4s\n",
      "[CV] colsample_bytree=0.2912291401980419, learning_rate=0.6118528947223795, max_depth=11, min_child_weight=0.09333132642723085, n_estimators=899, num_leaves=34 \n",
      "[CV]  colsample_bytree=0.2912291401980419, learning_rate=0.6118528947223795, max_depth=11, min_child_weight=0.09333132642723085, n_estimators=899, num_leaves=34, total=   0.4s\n",
      "[CV] colsample_bytree=0.2912291401980419, learning_rate=0.6118528947223795, max_depth=11, min_child_weight=0.09333132642723085, n_estimators=899, num_leaves=34 \n",
      "[CV]  colsample_bytree=0.2912291401980419, learning_rate=0.6118528947223795, max_depth=11, min_child_weight=0.09333132642723085, n_estimators=899, num_leaves=34, total=   0.4s\n",
      "[CV] colsample_bytree=0.45606998421703593, learning_rate=0.7851759613930136, max_depth=4, min_child_weight=0.7649239825343255, n_estimators=1467, num_leaves=83 \n",
      "[CV]  colsample_bytree=0.45606998421703593, learning_rate=0.7851759613930136, max_depth=4, min_child_weight=0.7649239825343255, n_estimators=1467, num_leaves=83, total=   0.5s\n",
      "[CV] colsample_bytree=0.45606998421703593, learning_rate=0.7851759613930136, max_depth=4, min_child_weight=0.7649239825343255, n_estimators=1467, num_leaves=83 \n",
      "[CV]  colsample_bytree=0.45606998421703593, learning_rate=0.7851759613930136, max_depth=4, min_child_weight=0.7649239825343255, n_estimators=1467, num_leaves=83, total=   0.5s\n",
      "[CV] colsample_bytree=0.45606998421703593, learning_rate=0.7851759613930136, max_depth=4, min_child_weight=0.7649239825343255, n_estimators=1467, num_leaves=83 \n",
      "[CV]  colsample_bytree=0.45606998421703593, learning_rate=0.7851759613930136, max_depth=4, min_child_weight=0.7649239825343255, n_estimators=1467, num_leaves=83, total=   0.5s\n",
      "[CV] colsample_bytree=0.4667628932479799, learning_rate=0.8599404067363206, max_depth=8, min_child_weight=0.34104824737458306, n_estimators=366, num_leaves=37 \n",
      "[CV]  colsample_bytree=0.4667628932479799, learning_rate=0.8599404067363206, max_depth=8, min_child_weight=0.34104824737458306, n_estimators=366, num_leaves=37, total=   0.2s\n",
      "[CV] colsample_bytree=0.4667628932479799, learning_rate=0.8599404067363206, max_depth=8, min_child_weight=0.34104824737458306, n_estimators=366, num_leaves=37 \n",
      "[CV]  colsample_bytree=0.4667628932479799, learning_rate=0.8599404067363206, max_depth=8, min_child_weight=0.34104824737458306, n_estimators=366, num_leaves=37, total=   0.2s\n",
      "[CV] colsample_bytree=0.4667628932479799, learning_rate=0.8599404067363206, max_depth=8, min_child_weight=0.34104824737458306, n_estimators=366, num_leaves=37 \n",
      "[CV]  colsample_bytree=0.4667628932479799, learning_rate=0.8599404067363206, max_depth=8, min_child_weight=0.34104824737458306, n_estimators=366, num_leaves=37, total=   0.2s\n",
      "[CV] colsample_bytree=0.9488855372533332, learning_rate=0.9656320330745594, max_depth=3, min_child_weight=0.7708330050798322, n_estimators=764, num_leaves=149 \n",
      "[CV]  colsample_bytree=0.9488855372533332, learning_rate=0.9656320330745594, max_depth=3, min_child_weight=0.7708330050798322, n_estimators=764, num_leaves=149, total=   0.2s\n",
      "[CV] colsample_bytree=0.9488855372533332, learning_rate=0.9656320330745594, max_depth=3, min_child_weight=0.7708330050798322, n_estimators=764, num_leaves=149 \n",
      "[CV]  colsample_bytree=0.9488855372533332, learning_rate=0.9656320330745594, max_depth=3, min_child_weight=0.7708330050798322, n_estimators=764, num_leaves=149, total=   0.2s\n",
      "[CV] colsample_bytree=0.9488855372533332, learning_rate=0.9656320330745594, max_depth=3, min_child_weight=0.7708330050798322, n_estimators=764, num_leaves=149 \n",
      "[CV]  colsample_bytree=0.9488855372533332, learning_rate=0.9656320330745594, max_depth=3, min_child_weight=0.7708330050798322, n_estimators=764, num_leaves=149, total=   0.2s\n",
      "[CV] colsample_bytree=0.6842330265121569, learning_rate=0.4401524937396013, max_depth=8, min_child_weight=1.2199933155652418, n_estimators=975, num_leaves=194 \n",
      "[CV]  colsample_bytree=0.6842330265121569, learning_rate=0.4401524937396013, max_depth=8, min_child_weight=1.2199933155652418, n_estimators=975, num_leaves=194, total=   0.6s\n",
      "[CV] colsample_bytree=0.6842330265121569, learning_rate=0.4401524937396013, max_depth=8, min_child_weight=1.2199933155652418, n_estimators=975, num_leaves=194 \n",
      "[CV]  colsample_bytree=0.6842330265121569, learning_rate=0.4401524937396013, max_depth=8, min_child_weight=1.2199933155652418, n_estimators=975, num_leaves=194, total=   0.6s\n",
      "[CV] colsample_bytree=0.6842330265121569, learning_rate=0.4401524937396013, max_depth=8, min_child_weight=1.2199933155652418, n_estimators=975, num_leaves=194 \n"
     ]
    },
    {
     "name": "stdout",
     "output_type": "stream",
     "text": [
      "[CV]  colsample_bytree=0.6842330265121569, learning_rate=0.4401524937396013, max_depth=8, min_child_weight=1.2199933155652418, n_estimators=975, num_leaves=194, total=   0.6s\n",
      "[CV] colsample_bytree=0.17336465350777208, learning_rate=0.3910606075732408, max_depth=3, min_child_weight=1.325044568707964, n_estimators=1225, num_leaves=153 \n",
      "[CV]  colsample_bytree=0.17336465350777208, learning_rate=0.3910606075732408, max_depth=3, min_child_weight=1.325044568707964, n_estimators=1225, num_leaves=153, total=   0.3s\n",
      "[CV] colsample_bytree=0.17336465350777208, learning_rate=0.3910606075732408, max_depth=3, min_child_weight=1.325044568707964, n_estimators=1225, num_leaves=153 \n",
      "[CV]  colsample_bytree=0.17336465350777208, learning_rate=0.3910606075732408, max_depth=3, min_child_weight=1.325044568707964, n_estimators=1225, num_leaves=153, total=   0.3s\n",
      "[CV] colsample_bytree=0.17336465350777208, learning_rate=0.3910606075732408, max_depth=3, min_child_weight=1.325044568707964, n_estimators=1225, num_leaves=153 \n",
      "[CV]  colsample_bytree=0.17336465350777208, learning_rate=0.3910606075732408, max_depth=3, min_child_weight=1.325044568707964, n_estimators=1225, num_leaves=153, total=   0.3s\n",
      "[CV] colsample_bytree=0.20794166286818883, learning_rate=0.5677003278199915, max_depth=14, min_child_weight=1.9391692555291171, n_estimators=929, num_leaves=63 \n",
      "[CV]  colsample_bytree=0.20794166286818883, learning_rate=0.5677003278199915, max_depth=14, min_child_weight=1.9391692555291171, n_estimators=929, num_leaves=63, total=   0.3s\n",
      "[CV] colsample_bytree=0.20794166286818883, learning_rate=0.5677003278199915, max_depth=14, min_child_weight=1.9391692555291171, n_estimators=929, num_leaves=63 \n",
      "[CV]  colsample_bytree=0.20794166286818883, learning_rate=0.5677003278199915, max_depth=14, min_child_weight=1.9391692555291171, n_estimators=929, num_leaves=63, total=   0.3s\n",
      "[CV] colsample_bytree=0.20794166286818883, learning_rate=0.5677003278199915, max_depth=14, min_child_weight=1.9391692555291171, n_estimators=929, num_leaves=63 \n",
      "[CV]  colsample_bytree=0.20794166286818883, learning_rate=0.5677003278199915, max_depth=14, min_child_weight=1.9391692555291171, n_estimators=929, num_leaves=63, total=   0.3s\n",
      "[CV] colsample_bytree=0.9394989415641891, learning_rate=0.8948273504276488, max_depth=9, min_child_weight=1.1408879488107988, n_estimators=1475, num_leaves=59 \n",
      "[CV]  colsample_bytree=0.9394989415641891, learning_rate=0.8948273504276488, max_depth=9, min_child_weight=1.1408879488107988, n_estimators=1475, num_leaves=59, total=   0.8s\n",
      "[CV] colsample_bytree=0.9394989415641891, learning_rate=0.8948273504276488, max_depth=9, min_child_weight=1.1408879488107988, n_estimators=1475, num_leaves=59 \n",
      "[CV]  colsample_bytree=0.9394989415641891, learning_rate=0.8948273504276488, max_depth=9, min_child_weight=1.1408879488107988, n_estimators=1475, num_leaves=59, total=   0.8s\n",
      "[CV] colsample_bytree=0.9394989415641891, learning_rate=0.8948273504276488, max_depth=9, min_child_weight=1.1408879488107988, n_estimators=1475, num_leaves=59 \n",
      "[CV]  colsample_bytree=0.9394989415641891, learning_rate=0.8948273504276488, max_depth=9, min_child_weight=1.1408879488107988, n_estimators=1475, num_leaves=59, total=   0.7s\n",
      "[CV] colsample_bytree=0.8445338486781514, learning_rate=0.7473201101373809, max_depth=6, min_child_weight=1.1735023313276964, n_estimators=416, num_leaves=143 \n",
      "[CV]  colsample_bytree=0.8445338486781514, learning_rate=0.7473201101373809, max_depth=6, min_child_weight=1.1735023313276964, n_estimators=416, num_leaves=143, total=   0.2s\n",
      "[CV] colsample_bytree=0.8445338486781514, learning_rate=0.7473201101373809, max_depth=6, min_child_weight=1.1735023313276964, n_estimators=416, num_leaves=143 \n",
      "[CV]  colsample_bytree=0.8445338486781514, learning_rate=0.7473201101373809, max_depth=6, min_child_weight=1.1735023313276964, n_estimators=416, num_leaves=143, total=   0.2s\n",
      "[CV] colsample_bytree=0.8445338486781514, learning_rate=0.7473201101373809, max_depth=6, min_child_weight=1.1735023313276964, n_estimators=416, num_leaves=143 \n",
      "[CV]  colsample_bytree=0.8445338486781514, learning_rate=0.7473201101373809, max_depth=6, min_child_weight=1.1735023313276964, n_estimators=416, num_leaves=143, total=   0.2s\n",
      "[CV] colsample_bytree=0.27599918202254337, learning_rate=0.2962735057040824, max_depth=14, min_child_weight=0.14910128735954165, n_estimators=720, num_leaves=107 \n",
      "[CV]  colsample_bytree=0.27599918202254337, learning_rate=0.2962735057040824, max_depth=14, min_child_weight=0.14910128735954165, n_estimators=720, num_leaves=107, total=   0.3s\n",
      "[CV] colsample_bytree=0.27599918202254337, learning_rate=0.2962735057040824, max_depth=14, min_child_weight=0.14910128735954165, n_estimators=720, num_leaves=107 \n",
      "[CV]  colsample_bytree=0.27599918202254337, learning_rate=0.2962735057040824, max_depth=14, min_child_weight=0.14910128735954165, n_estimators=720, num_leaves=107, total=   0.3s\n",
      "[CV] colsample_bytree=0.27599918202254337, learning_rate=0.2962735057040824, max_depth=14, min_child_weight=0.14910128735954165, n_estimators=720, num_leaves=107 \n",
      "[CV]  colsample_bytree=0.27599918202254337, learning_rate=0.2962735057040824, max_depth=14, min_child_weight=0.14910128735954165, n_estimators=720, num_leaves=107, total=   0.3s\n",
      "[CV] colsample_bytree=0.3948815181755697, learning_rate=0.2934881747180381, max_depth=12, min_child_weight=0.3976848081776103, n_estimators=591, num_leaves=182 \n",
      "[CV]  colsample_bytree=0.3948815181755697, learning_rate=0.2934881747180381, max_depth=12, min_child_weight=0.3976848081776103, n_estimators=591, num_leaves=182, total=   0.3s\n",
      "[CV] colsample_bytree=0.3948815181755697, learning_rate=0.2934881747180381, max_depth=12, min_child_weight=0.3976848081776103, n_estimators=591, num_leaves=182 \n",
      "[CV]  colsample_bytree=0.3948815181755697, learning_rate=0.2934881747180381, max_depth=12, min_child_weight=0.3976848081776103, n_estimators=591, num_leaves=182, total=   0.3s\n",
      "[CV] colsample_bytree=0.3948815181755697, learning_rate=0.2934881747180381, max_depth=12, min_child_weight=0.3976848081776103, n_estimators=591, num_leaves=182 \n",
      "[CV]  colsample_bytree=0.3948815181755697, learning_rate=0.2934881747180381, max_depth=12, min_child_weight=0.3976848081776103, n_estimators=591, num_leaves=182, total=   0.3s\n",
      "[CV] colsample_bytree=0.7901755405312056, learning_rate=0.6059599747810114, max_depth=11, min_child_weight=0.7169314570885452, n_estimators=240, num_leaves=47 \n",
      "[CV]  colsample_bytree=0.7901755405312056, learning_rate=0.6059599747810114, max_depth=11, min_child_weight=0.7169314570885452, n_estimators=240, num_leaves=47, total=   0.1s\n",
      "[CV] colsample_bytree=0.7901755405312056, learning_rate=0.6059599747810114, max_depth=11, min_child_weight=0.7169314570885452, n_estimators=240, num_leaves=47 \n",
      "[CV]  colsample_bytree=0.7901755405312056, learning_rate=0.6059599747810114, max_depth=11, min_child_weight=0.7169314570885452, n_estimators=240, num_leaves=47, total=   0.1s\n",
      "[CV] colsample_bytree=0.7901755405312056, learning_rate=0.6059599747810114, max_depth=11, min_child_weight=0.7169314570885452, n_estimators=240, num_leaves=47 \n",
      "[CV]  colsample_bytree=0.7901755405312056, learning_rate=0.6059599747810114, max_depth=11, min_child_weight=0.7169314570885452, n_estimators=240, num_leaves=47, total=   0.1s\n",
      "[CV] colsample_bytree=0.8631034258755935, learning_rate=0.6232981268275579, max_depth=3, min_child_weight=0.19082023298082262, n_estimators=702, num_leaves=170 \n",
      "[CV]  colsample_bytree=0.8631034258755935, learning_rate=0.6232981268275579, max_depth=3, min_child_weight=0.19082023298082262, n_estimators=702, num_leaves=170, total=   0.2s\n",
      "[CV] colsample_bytree=0.8631034258755935, learning_rate=0.6232981268275579, max_depth=3, min_child_weight=0.19082023298082262, n_estimators=702, num_leaves=170 \n",
      "[CV]  colsample_bytree=0.8631034258755935, learning_rate=0.6232981268275579, max_depth=3, min_child_weight=0.19082023298082262, n_estimators=702, num_leaves=170, total=   0.2s\n",
      "[CV] colsample_bytree=0.8631034258755935, learning_rate=0.6232981268275579, max_depth=3, min_child_weight=0.19082023298082262, n_estimators=702, num_leaves=170 \n",
      "[CV]  colsample_bytree=0.8631034258755935, learning_rate=0.6232981268275579, max_depth=3, min_child_weight=0.19082023298082262, n_estimators=702, num_leaves=170, total=   0.2s\n",
      "[CV] colsample_bytree=0.6688412526636073, learning_rate=0.6659223566174967, max_depth=13, min_child_weight=1.2751149427104262, n_estimators=1160, num_leaves=120 \n"
     ]
    },
    {
     "name": "stdout",
     "output_type": "stream",
     "text": [
      "[CV]  colsample_bytree=0.6688412526636073, learning_rate=0.6659223566174967, max_depth=13, min_child_weight=1.2751149427104262, n_estimators=1160, num_leaves=120, total=   0.6s\n",
      "[CV] colsample_bytree=0.6688412526636073, learning_rate=0.6659223566174967, max_depth=13, min_child_weight=1.2751149427104262, n_estimators=1160, num_leaves=120 \n",
      "[CV]  colsample_bytree=0.6688412526636073, learning_rate=0.6659223566174967, max_depth=13, min_child_weight=1.2751149427104262, n_estimators=1160, num_leaves=120, total=   0.6s\n",
      "[CV] colsample_bytree=0.6688412526636073, learning_rate=0.6659223566174967, max_depth=13, min_child_weight=1.2751149427104262, n_estimators=1160, num_leaves=120 \n",
      "[CV]  colsample_bytree=0.6688412526636073, learning_rate=0.6659223566174967, max_depth=13, min_child_weight=1.2751149427104262, n_estimators=1160, num_leaves=120, total=   0.7s\n",
      "[CV] colsample_bytree=0.9717120953891037, learning_rate=0.8489138242660839, max_depth=6, min_child_weight=1.1225543951389925, n_estimators=966, num_leaves=161 \n",
      "[CV]  colsample_bytree=0.9717120953891037, learning_rate=0.8489138242660839, max_depth=6, min_child_weight=1.1225543951389925, n_estimators=966, num_leaves=161, total=   0.4s\n",
      "[CV] colsample_bytree=0.9717120953891037, learning_rate=0.8489138242660839, max_depth=6, min_child_weight=1.1225543951389925, n_estimators=966, num_leaves=161 \n",
      "[CV]  colsample_bytree=0.9717120953891037, learning_rate=0.8489138242660839, max_depth=6, min_child_weight=1.1225543951389925, n_estimators=966, num_leaves=161, total=   0.4s\n",
      "[CV] colsample_bytree=0.9717120953891037, learning_rate=0.8489138242660839, max_depth=6, min_child_weight=1.1225543951389925, n_estimators=966, num_leaves=161 \n",
      "[CV]  colsample_bytree=0.9717120953891037, learning_rate=0.8489138242660839, max_depth=6, min_child_weight=1.1225543951389925, n_estimators=966, num_leaves=161, total=   0.4s\n",
      "[CV] colsample_bytree=0.49379559636439074, learning_rate=0.5227328293819941, max_depth=11, min_child_weight=0.05083825348819038, n_estimators=1063, num_leaves=71 \n",
      "[CV]  colsample_bytree=0.49379559636439074, learning_rate=0.5227328293819941, max_depth=11, min_child_weight=0.05083825348819038, n_estimators=1063, num_leaves=71, total=   0.5s\n",
      "[CV] colsample_bytree=0.49379559636439074, learning_rate=0.5227328293819941, max_depth=11, min_child_weight=0.05083825348819038, n_estimators=1063, num_leaves=71 \n",
      "[CV]  colsample_bytree=0.49379559636439074, learning_rate=0.5227328293819941, max_depth=11, min_child_weight=0.05083825348819038, n_estimators=1063, num_leaves=71, total=   0.5s\n",
      "[CV] colsample_bytree=0.49379559636439074, learning_rate=0.5227328293819941, max_depth=11, min_child_weight=0.05083825348819038, n_estimators=1063, num_leaves=71 \n",
      "[CV]  colsample_bytree=0.49379559636439074, learning_rate=0.5227328293819941, max_depth=11, min_child_weight=0.05083825348819038, n_estimators=1063, num_leaves=71, total=   0.6s\n",
      "[CV] colsample_bytree=0.5632755719763837, learning_rate=0.6955160864261275, max_depth=6, min_child_weight=0.4985844582977499, n_estimators=948, num_leaves=162 \n",
      "[CV]  colsample_bytree=0.5632755719763837, learning_rate=0.6955160864261275, max_depth=6, min_child_weight=0.4985844582977499, n_estimators=948, num_leaves=162, total=   0.4s\n",
      "[CV] colsample_bytree=0.5632755719763837, learning_rate=0.6955160864261275, max_depth=6, min_child_weight=0.4985844582977499, n_estimators=948, num_leaves=162 \n",
      "[CV]  colsample_bytree=0.5632755719763837, learning_rate=0.6955160864261275, max_depth=6, min_child_weight=0.4985844582977499, n_estimators=948, num_leaves=162, total=   0.5s\n",
      "[CV] colsample_bytree=0.5632755719763837, learning_rate=0.6955160864261275, max_depth=6, min_child_weight=0.4985844582977499, n_estimators=948, num_leaves=162 \n",
      "[CV]  colsample_bytree=0.5632755719763837, learning_rate=0.6955160864261275, max_depth=6, min_child_weight=0.4985844582977499, n_estimators=948, num_leaves=162, total=   0.4s\n",
      "[CV] colsample_bytree=0.7555511385430487, learning_rate=0.22879816549162246, max_depth=8, min_child_weight=0.579502905827536, n_estimators=1309, num_leaves=47 \n",
      "[CV]  colsample_bytree=0.7555511385430487, learning_rate=0.22879816549162246, max_depth=8, min_child_weight=0.579502905827536, n_estimators=1309, num_leaves=47, total=   0.6s\n",
      "[CV] colsample_bytree=0.7555511385430487, learning_rate=0.22879816549162246, max_depth=8, min_child_weight=0.579502905827536, n_estimators=1309, num_leaves=47 \n",
      "[CV]  colsample_bytree=0.7555511385430487, learning_rate=0.22879816549162246, max_depth=8, min_child_weight=0.579502905827536, n_estimators=1309, num_leaves=47, total=   0.6s\n",
      "[CV] colsample_bytree=0.7555511385430487, learning_rate=0.22879816549162246, max_depth=8, min_child_weight=0.579502905827536, n_estimators=1309, num_leaves=47 \n",
      "[CV]  colsample_bytree=0.7555511385430487, learning_rate=0.22879816549162246, max_depth=8, min_child_weight=0.579502905827536, n_estimators=1309, num_leaves=47, total=   0.6s\n",
      "[CV] colsample_bytree=0.9296976523425731, learning_rate=0.808120379564417, max_depth=10, min_child_weight=0.21098851966054122, n_estimators=995, num_leaves=47 \n",
      "[CV]  colsample_bytree=0.9296976523425731, learning_rate=0.808120379564417, max_depth=10, min_child_weight=0.21098851966054122, n_estimators=995, num_leaves=47, total=   0.5s\n",
      "[CV] colsample_bytree=0.9296976523425731, learning_rate=0.808120379564417, max_depth=10, min_child_weight=0.21098851966054122, n_estimators=995, num_leaves=47 \n",
      "[CV]  colsample_bytree=0.9296976523425731, learning_rate=0.808120379564417, max_depth=10, min_child_weight=0.21098851966054122, n_estimators=995, num_leaves=47, total=   0.5s\n",
      "[CV] colsample_bytree=0.9296976523425731, learning_rate=0.808120379564417, max_depth=10, min_child_weight=0.21098851966054122, n_estimators=995, num_leaves=47 \n",
      "[CV]  colsample_bytree=0.9296976523425731, learning_rate=0.808120379564417, max_depth=10, min_child_weight=0.21098851966054122, n_estimators=995, num_leaves=47, total=   0.5s\n",
      "[CV] colsample_bytree=0.2184404372168336, learning_rate=0.4165099478703662, max_depth=12, min_child_weight=0.6486900420105479, n_estimators=1454, num_leaves=148 \n",
      "[CV]  colsample_bytree=0.2184404372168336, learning_rate=0.4165099478703662, max_depth=12, min_child_weight=0.6486900420105479, n_estimators=1454, num_leaves=148, total=   0.6s\n",
      "[CV] colsample_bytree=0.2184404372168336, learning_rate=0.4165099478703662, max_depth=12, min_child_weight=0.6486900420105479, n_estimators=1454, num_leaves=148 \n",
      "[CV]  colsample_bytree=0.2184404372168336, learning_rate=0.4165099478703662, max_depth=12, min_child_weight=0.6486900420105479, n_estimators=1454, num_leaves=148, total=   0.6s\n",
      "[CV] colsample_bytree=0.2184404372168336, learning_rate=0.4165099478703662, max_depth=12, min_child_weight=0.6486900420105479, n_estimators=1454, num_leaves=148 \n",
      "[CV]  colsample_bytree=0.2184404372168336, learning_rate=0.4165099478703662, max_depth=12, min_child_weight=0.6486900420105479, n_estimators=1454, num_leaves=148, total=   0.6s\n",
      "[CV] colsample_bytree=0.22793516254194168, learning_rate=0.4271077886262563, max_depth=5, min_child_weight=0.705137712668338, n_estimators=1482, num_leaves=122 \n",
      "[CV]  colsample_bytree=0.22793516254194168, learning_rate=0.4271077886262563, max_depth=5, min_child_weight=0.705137712668338, n_estimators=1482, num_leaves=122, total=   0.5s\n",
      "[CV] colsample_bytree=0.22793516254194168, learning_rate=0.4271077886262563, max_depth=5, min_child_weight=0.705137712668338, n_estimators=1482, num_leaves=122 \n",
      "[CV]  colsample_bytree=0.22793516254194168, learning_rate=0.4271077886262563, max_depth=5, min_child_weight=0.705137712668338, n_estimators=1482, num_leaves=122, total=   0.5s\n",
      "[CV] colsample_bytree=0.22793516254194168, learning_rate=0.4271077886262563, max_depth=5, min_child_weight=0.705137712668338, n_estimators=1482, num_leaves=122 \n",
      "[CV]  colsample_bytree=0.22793516254194168, learning_rate=0.4271077886262563, max_depth=5, min_child_weight=0.705137712668338, n_estimators=1482, num_leaves=122, total=   0.5s\n",
      "[CV] colsample_bytree=0.16465585314294173, learning_rate=0.534089419375442, max_depth=6, min_child_weight=1.3848720657805407, n_estimators=1457, num_leaves=191 \n",
      "[CV]  colsample_bytree=0.16465585314294173, learning_rate=0.534089419375442, max_depth=6, min_child_weight=1.3848720657805407, n_estimators=1457, num_leaves=191, total=   0.5s\n",
      "[CV] colsample_bytree=0.16465585314294173, learning_rate=0.534089419375442, max_depth=6, min_child_weight=1.3848720657805407, n_estimators=1457, num_leaves=191 \n"
     ]
    },
    {
     "name": "stdout",
     "output_type": "stream",
     "text": [
      "[CV]  colsample_bytree=0.16465585314294173, learning_rate=0.534089419375442, max_depth=6, min_child_weight=1.3848720657805407, n_estimators=1457, num_leaves=191, total=   0.5s\n",
      "[CV] colsample_bytree=0.16465585314294173, learning_rate=0.534089419375442, max_depth=6, min_child_weight=1.3848720657805407, n_estimators=1457, num_leaves=191 \n",
      "[CV]  colsample_bytree=0.16465585314294173, learning_rate=0.534089419375442, max_depth=6, min_child_weight=1.3848720657805407, n_estimators=1457, num_leaves=191, total=   0.5s\n",
      "[CV] colsample_bytree=0.24412552224777417, learning_rate=0.16829104217293056, max_depth=9, min_child_weight=1.4060379177903557, n_estimators=1336, num_leaves=81 \n",
      "[CV]  colsample_bytree=0.24412552224777417, learning_rate=0.16829104217293056, max_depth=9, min_child_weight=1.4060379177903557, n_estimators=1336, num_leaves=81, total=   0.5s\n",
      "[CV] colsample_bytree=0.24412552224777417, learning_rate=0.16829104217293056, max_depth=9, min_child_weight=1.4060379177903557, n_estimators=1336, num_leaves=81 \n",
      "[CV]  colsample_bytree=0.24412552224777417, learning_rate=0.16829104217293056, max_depth=9, min_child_weight=1.4060379177903557, n_estimators=1336, num_leaves=81, total=   0.5s\n",
      "[CV] colsample_bytree=0.24412552224777417, learning_rate=0.16829104217293056, max_depth=9, min_child_weight=1.4060379177903557, n_estimators=1336, num_leaves=81 \n",
      "[CV]  colsample_bytree=0.24412552224777417, learning_rate=0.16829104217293056, max_depth=9, min_child_weight=1.4060379177903557, n_estimators=1336, num_leaves=81, total=   0.5s\n",
      "[CV] colsample_bytree=0.9717820827209607, learning_rate=0.9624472949421112, max_depth=8, min_child_weight=0.9944970117847709, n_estimators=1336, num_leaves=120 \n",
      "[CV]  colsample_bytree=0.9717820827209607, learning_rate=0.9624472949421112, max_depth=8, min_child_weight=0.9944970117847709, n_estimators=1336, num_leaves=120, total=   0.6s\n",
      "[CV] colsample_bytree=0.9717820827209607, learning_rate=0.9624472949421112, max_depth=8, min_child_weight=0.9944970117847709, n_estimators=1336, num_leaves=120 \n",
      "[CV]  colsample_bytree=0.9717820827209607, learning_rate=0.9624472949421112, max_depth=8, min_child_weight=0.9944970117847709, n_estimators=1336, num_leaves=120, total=   0.7s\n",
      "[CV] colsample_bytree=0.9717820827209607, learning_rate=0.9624472949421112, max_depth=8, min_child_weight=0.9944970117847709, n_estimators=1336, num_leaves=120 \n",
      "[CV]  colsample_bytree=0.9717820827209607, learning_rate=0.9624472949421112, max_depth=8, min_child_weight=0.9944970117847709, n_estimators=1336, num_leaves=120, total=   0.7s\n",
      "[CV] colsample_bytree=0.2848404943774676, learning_rate=0.036886947354532795, max_depth=2, min_child_weight=1.9532299116653058, n_estimators=419, num_leaves=73 \n",
      "[CV]  colsample_bytree=0.2848404943774676, learning_rate=0.036886947354532795, max_depth=2, min_child_weight=1.9532299116653058, n_estimators=419, num_leaves=73, total=   0.1s\n",
      "[CV] colsample_bytree=0.2848404943774676, learning_rate=0.036886947354532795, max_depth=2, min_child_weight=1.9532299116653058, n_estimators=419, num_leaves=73 \n",
      "[CV]  colsample_bytree=0.2848404943774676, learning_rate=0.036886947354532795, max_depth=2, min_child_weight=1.9532299116653058, n_estimators=419, num_leaves=73, total=   0.1s\n",
      "[CV] colsample_bytree=0.2848404943774676, learning_rate=0.036886947354532795, max_depth=2, min_child_weight=1.9532299116653058, n_estimators=419, num_leaves=73 \n",
      "[CV]  colsample_bytree=0.2848404943774676, learning_rate=0.036886947354532795, max_depth=2, min_child_weight=1.9532299116653058, n_estimators=419, num_leaves=73, total=   0.1s\n",
      "[CV] colsample_bytree=0.033050732900548385, learning_rate=0.345071248026683, max_depth=2, min_child_weight=0.47912378133394484, n_estimators=1353, num_leaves=72 \n",
      "[CV]  colsample_bytree=0.033050732900548385, learning_rate=0.345071248026683, max_depth=2, min_child_weight=0.47912378133394484, n_estimators=1353, num_leaves=72, total=   0.2s\n",
      "[CV] colsample_bytree=0.033050732900548385, learning_rate=0.345071248026683, max_depth=2, min_child_weight=0.47912378133394484, n_estimators=1353, num_leaves=72 \n",
      "[CV]  colsample_bytree=0.033050732900548385, learning_rate=0.345071248026683, max_depth=2, min_child_weight=0.47912378133394484, n_estimators=1353, num_leaves=72, total=   0.2s\n",
      "[CV] colsample_bytree=0.033050732900548385, learning_rate=0.345071248026683, max_depth=2, min_child_weight=0.47912378133394484, n_estimators=1353, num_leaves=72 \n",
      "[CV]  colsample_bytree=0.033050732900548385, learning_rate=0.345071248026683, max_depth=2, min_child_weight=0.47912378133394484, n_estimators=1353, num_leaves=72, total=   0.2s\n",
      "[CV] colsample_bytree=0.489452760277563, learning_rate=0.9856504541106007, max_depth=8, min_child_weight=1.344271094811757, n_estimators=402, num_leaves=142 \n",
      "[CV]  colsample_bytree=0.489452760277563, learning_rate=0.9856504541106007, max_depth=8, min_child_weight=1.344271094811757, n_estimators=402, num_leaves=142, total=   0.2s\n",
      "[CV] colsample_bytree=0.489452760277563, learning_rate=0.9856504541106007, max_depth=8, min_child_weight=1.344271094811757, n_estimators=402, num_leaves=142 \n",
      "[CV]  colsample_bytree=0.489452760277563, learning_rate=0.9856504541106007, max_depth=8, min_child_weight=1.344271094811757, n_estimators=402, num_leaves=142, total=   0.2s\n",
      "[CV] colsample_bytree=0.489452760277563, learning_rate=0.9856504541106007, max_depth=8, min_child_weight=1.344271094811757, n_estimators=402, num_leaves=142 \n",
      "[CV]  colsample_bytree=0.489452760277563, learning_rate=0.9856504541106007, max_depth=8, min_child_weight=1.344271094811757, n_estimators=402, num_leaves=142, total=   0.2s\n",
      "[CV] colsample_bytree=0.24215993827742588, learning_rate=0.8031397563798959, max_depth=6, min_child_weight=1.264611661187159, n_estimators=397, num_leaves=158 \n",
      "[CV]  colsample_bytree=0.24215993827742588, learning_rate=0.8031397563798959, max_depth=6, min_child_weight=1.264611661187159, n_estimators=397, num_leaves=158, total=   0.1s\n",
      "[CV] colsample_bytree=0.24215993827742588, learning_rate=0.8031397563798959, max_depth=6, min_child_weight=1.264611661187159, n_estimators=397, num_leaves=158 \n",
      "[CV]  colsample_bytree=0.24215993827742588, learning_rate=0.8031397563798959, max_depth=6, min_child_weight=1.264611661187159, n_estimators=397, num_leaves=158, total=   0.1s\n",
      "[CV] colsample_bytree=0.24215993827742588, learning_rate=0.8031397563798959, max_depth=6, min_child_weight=1.264611661187159, n_estimators=397, num_leaves=158 \n",
      "[CV]  colsample_bytree=0.24215993827742588, learning_rate=0.8031397563798959, max_depth=6, min_child_weight=1.264611661187159, n_estimators=397, num_leaves=158, total=   0.1s\n",
      "[CV] colsample_bytree=0.8164318732193839, learning_rate=0.7983451249845511, max_depth=10, min_child_weight=0.6415601299434717, n_estimators=663, num_leaves=112 \n",
      "[CV]  colsample_bytree=0.8164318732193839, learning_rate=0.7983451249845511, max_depth=10, min_child_weight=0.6415601299434717, n_estimators=663, num_leaves=112, total=   0.3s\n",
      "[CV] colsample_bytree=0.8164318732193839, learning_rate=0.7983451249845511, max_depth=10, min_child_weight=0.6415601299434717, n_estimators=663, num_leaves=112 \n",
      "[CV]  colsample_bytree=0.8164318732193839, learning_rate=0.7983451249845511, max_depth=10, min_child_weight=0.6415601299434717, n_estimators=663, num_leaves=112, total=   0.3s\n",
      "[CV] colsample_bytree=0.8164318732193839, learning_rate=0.7983451249845511, max_depth=10, min_child_weight=0.6415601299434717, n_estimators=663, num_leaves=112 \n",
      "[CV]  colsample_bytree=0.8164318732193839, learning_rate=0.7983451249845511, max_depth=10, min_child_weight=0.6415601299434717, n_estimators=663, num_leaves=112, total=   0.3s\n",
      "[CV] colsample_bytree=0.8583588048137198, learning_rate=0.32595890520188475, max_depth=5, min_child_weight=0.033175657855712304, n_estimators=346, num_leaves=167 \n",
      "[CV]  colsample_bytree=0.8583588048137198, learning_rate=0.32595890520188475, max_depth=5, min_child_weight=0.033175657855712304, n_estimators=346, num_leaves=167, total=   0.1s\n",
      "[CV] colsample_bytree=0.8583588048137198, learning_rate=0.32595890520188475, max_depth=5, min_child_weight=0.033175657855712304, n_estimators=346, num_leaves=167 \n",
      "[CV]  colsample_bytree=0.8583588048137198, learning_rate=0.32595890520188475, max_depth=5, min_child_weight=0.033175657855712304, n_estimators=346, num_leaves=167, total=   0.1s\n",
      "[CV] colsample_bytree=0.8583588048137198, learning_rate=0.32595890520188475, max_depth=5, min_child_weight=0.033175657855712304, n_estimators=346, num_leaves=167 \n",
      "[CV]  colsample_bytree=0.8583588048137198, learning_rate=0.32595890520188475, max_depth=5, min_child_weight=0.033175657855712304, n_estimators=346, num_leaves=167, total=   0.1s\n",
      "[CV] colsample_bytree=0.6451727904094499, learning_rate=0.17436642900499144, max_depth=2, min_child_weight=0.7951440421750446, n_estimators=750, num_leaves=101 \n"
     ]
    },
    {
     "name": "stdout",
     "output_type": "stream",
     "text": [
      "[CV]  colsample_bytree=0.6451727904094499, learning_rate=0.17436642900499144, max_depth=2, min_child_weight=0.7951440421750446, n_estimators=750, num_leaves=101, total=   0.1s\n",
      "[CV] colsample_bytree=0.6451727904094499, learning_rate=0.17436642900499144, max_depth=2, min_child_weight=0.7951440421750446, n_estimators=750, num_leaves=101 \n",
      "[CV]  colsample_bytree=0.6451727904094499, learning_rate=0.17436642900499144, max_depth=2, min_child_weight=0.7951440421750446, n_estimators=750, num_leaves=101, total=   0.1s\n",
      "[CV] colsample_bytree=0.6451727904094499, learning_rate=0.17436642900499144, max_depth=2, min_child_weight=0.7951440421750446, n_estimators=750, num_leaves=101 \n",
      "[CV]  colsample_bytree=0.6451727904094499, learning_rate=0.17436642900499144, max_depth=2, min_child_weight=0.7951440421750446, n_estimators=750, num_leaves=101, total=   0.1s\n",
      "[CV] colsample_bytree=0.837710105907328, learning_rate=0.6756901170392807, max_depth=10, min_child_weight=0.22694704248117814, n_estimators=350, num_leaves=178 \n",
      "[CV]  colsample_bytree=0.837710105907328, learning_rate=0.6756901170392807, max_depth=10, min_child_weight=0.22694704248117814, n_estimators=350, num_leaves=178, total=   0.2s\n",
      "[CV] colsample_bytree=0.837710105907328, learning_rate=0.6756901170392807, max_depth=10, min_child_weight=0.22694704248117814, n_estimators=350, num_leaves=178 \n",
      "[CV]  colsample_bytree=0.837710105907328, learning_rate=0.6756901170392807, max_depth=10, min_child_weight=0.22694704248117814, n_estimators=350, num_leaves=178, total=   0.2s\n",
      "[CV] colsample_bytree=0.837710105907328, learning_rate=0.6756901170392807, max_depth=10, min_child_weight=0.22694704248117814, n_estimators=350, num_leaves=178 \n",
      "[CV]  colsample_bytree=0.837710105907328, learning_rate=0.6756901170392807, max_depth=10, min_child_weight=0.22694704248117814, n_estimators=350, num_leaves=178, total=   0.2s\n",
      "[CV] colsample_bytree=0.877339353380981, learning_rate=0.2579416277151556, max_depth=13, min_child_weight=0.34990985419187237, n_estimators=823, num_leaves=79 \n",
      "[CV]  colsample_bytree=0.877339353380981, learning_rate=0.2579416277151556, max_depth=13, min_child_weight=0.34990985419187237, n_estimators=823, num_leaves=79, total=   0.4s\n",
      "[CV] colsample_bytree=0.877339353380981, learning_rate=0.2579416277151556, max_depth=13, min_child_weight=0.34990985419187237, n_estimators=823, num_leaves=79 \n",
      "[CV]  colsample_bytree=0.877339353380981, learning_rate=0.2579416277151556, max_depth=13, min_child_weight=0.34990985419187237, n_estimators=823, num_leaves=79, total=   0.4s\n",
      "[CV] colsample_bytree=0.877339353380981, learning_rate=0.2579416277151556, max_depth=13, min_child_weight=0.34990985419187237, n_estimators=823, num_leaves=79 \n",
      "[CV]  colsample_bytree=0.877339353380981, learning_rate=0.2579416277151556, max_depth=13, min_child_weight=0.34990985419187237, n_estimators=823, num_leaves=79, total=   0.4s\n",
      "[CV] colsample_bytree=0.260829174830409, learning_rate=0.9962536997579243, max_depth=13, min_child_weight=1.1165869072141952, n_estimators=1383, num_leaves=28 \n",
      "[CV]  colsample_bytree=0.260829174830409, learning_rate=0.9962536997579243, max_depth=13, min_child_weight=1.1165869072141952, n_estimators=1383, num_leaves=28, total=   0.6s\n",
      "[CV] colsample_bytree=0.260829174830409, learning_rate=0.9962536997579243, max_depth=13, min_child_weight=1.1165869072141952, n_estimators=1383, num_leaves=28 \n",
      "[CV]  colsample_bytree=0.260829174830409, learning_rate=0.9962536997579243, max_depth=13, min_child_weight=1.1165869072141952, n_estimators=1383, num_leaves=28, total=   0.7s\n",
      "[CV] colsample_bytree=0.260829174830409, learning_rate=0.9962536997579243, max_depth=13, min_child_weight=1.1165869072141952, n_estimators=1383, num_leaves=28 \n",
      "[CV]  colsample_bytree=0.260829174830409, learning_rate=0.9962536997579243, max_depth=13, min_child_weight=1.1165869072141952, n_estimators=1383, num_leaves=28, total=   0.6s\n",
      "[CV] colsample_bytree=0.2788713525921819, learning_rate=0.7003578299727713, max_depth=4, min_child_weight=1.712648583756185, n_estimators=253, num_leaves=139 \n",
      "[CV]  colsample_bytree=0.2788713525921819, learning_rate=0.7003578299727713, max_depth=4, min_child_weight=1.712648583756185, n_estimators=253, num_leaves=139, total=   0.1s\n",
      "[CV] colsample_bytree=0.2788713525921819, learning_rate=0.7003578299727713, max_depth=4, min_child_weight=1.712648583756185, n_estimators=253, num_leaves=139 \n",
      "[CV]  colsample_bytree=0.2788713525921819, learning_rate=0.7003578299727713, max_depth=4, min_child_weight=1.712648583756185, n_estimators=253, num_leaves=139, total=   0.1s\n",
      "[CV] colsample_bytree=0.2788713525921819, learning_rate=0.7003578299727713, max_depth=4, min_child_weight=1.712648583756185, n_estimators=253, num_leaves=139 \n",
      "[CV]  colsample_bytree=0.2788713525921819, learning_rate=0.7003578299727713, max_depth=4, min_child_weight=1.712648583756185, n_estimators=253, num_leaves=139, total=   0.1s\n",
      "[CV] colsample_bytree=0.8877700987609598, learning_rate=0.8509284487675127, max_depth=2, min_child_weight=0.32325742818922754, n_estimators=303, num_leaves=103 \n",
      "[CV]  colsample_bytree=0.8877700987609598, learning_rate=0.8509284487675127, max_depth=2, min_child_weight=0.32325742818922754, n_estimators=303, num_leaves=103, total=   0.0s\n",
      "[CV] colsample_bytree=0.8877700987609598, learning_rate=0.8509284487675127, max_depth=2, min_child_weight=0.32325742818922754, n_estimators=303, num_leaves=103 \n",
      "[CV]  colsample_bytree=0.8877700987609598, learning_rate=0.8509284487675127, max_depth=2, min_child_weight=0.32325742818922754, n_estimators=303, num_leaves=103, total=   0.1s\n",
      "[CV] colsample_bytree=0.8877700987609598, learning_rate=0.8509284487675127, max_depth=2, min_child_weight=0.32325742818922754, n_estimators=303, num_leaves=103 \n",
      "[CV]  colsample_bytree=0.8877700987609598, learning_rate=0.8509284487675127, max_depth=2, min_child_weight=0.32325742818922754, n_estimators=303, num_leaves=103, total=   0.1s\n",
      "[CV] colsample_bytree=0.5806866214364547, learning_rate=0.3722827665617431, max_depth=10, min_child_weight=1.3270035382161116, n_estimators=1113, num_leaves=147 \n",
      "[CV]  colsample_bytree=0.5806866214364547, learning_rate=0.3722827665617431, max_depth=10, min_child_weight=1.3270035382161116, n_estimators=1113, num_leaves=147, total=   0.6s\n",
      "[CV] colsample_bytree=0.5806866214364547, learning_rate=0.3722827665617431, max_depth=10, min_child_weight=1.3270035382161116, n_estimators=1113, num_leaves=147 \n",
      "[CV]  colsample_bytree=0.5806866214364547, learning_rate=0.3722827665617431, max_depth=10, min_child_weight=1.3270035382161116, n_estimators=1113, num_leaves=147, total=   0.6s\n",
      "[CV] colsample_bytree=0.5806866214364547, learning_rate=0.3722827665617431, max_depth=10, min_child_weight=1.3270035382161116, n_estimators=1113, num_leaves=147 \n",
      "[CV]  colsample_bytree=0.5806866214364547, learning_rate=0.3722827665617431, max_depth=10, min_child_weight=1.3270035382161116, n_estimators=1113, num_leaves=147, total=   0.6s\n",
      "[CV] colsample_bytree=0.30536386034439345, learning_rate=0.4856137535862266, max_depth=4, min_child_weight=1.303922519005201, n_estimators=360, num_leaves=87 \n",
      "[CV]  colsample_bytree=0.30536386034439345, learning_rate=0.4856137535862266, max_depth=4, min_child_weight=1.303922519005201, n_estimators=360, num_leaves=87, total=   0.1s\n",
      "[CV] colsample_bytree=0.30536386034439345, learning_rate=0.4856137535862266, max_depth=4, min_child_weight=1.303922519005201, n_estimators=360, num_leaves=87 \n",
      "[CV]  colsample_bytree=0.30536386034439345, learning_rate=0.4856137535862266, max_depth=4, min_child_weight=1.303922519005201, n_estimators=360, num_leaves=87, total=   0.1s\n",
      "[CV] colsample_bytree=0.30536386034439345, learning_rate=0.4856137535862266, max_depth=4, min_child_weight=1.303922519005201, n_estimators=360, num_leaves=87 \n",
      "[CV]  colsample_bytree=0.30536386034439345, learning_rate=0.4856137535862266, max_depth=4, min_child_weight=1.303922519005201, n_estimators=360, num_leaves=87, total=   0.1s\n",
      "[CV] colsample_bytree=0.23724908749680007, learning_rate=0.3253996981592677, max_depth=5, min_child_weight=0.7329375691657198, n_estimators=1358, num_leaves=164 \n",
      "[CV]  colsample_bytree=0.23724908749680007, learning_rate=0.3253996981592677, max_depth=5, min_child_weight=0.7329375691657198, n_estimators=1358, num_leaves=164, total=   0.5s\n",
      "[CV] colsample_bytree=0.23724908749680007, learning_rate=0.3253996981592677, max_depth=5, min_child_weight=0.7329375691657198, n_estimators=1358, num_leaves=164 \n"
     ]
    },
    {
     "name": "stdout",
     "output_type": "stream",
     "text": [
      "[CV]  colsample_bytree=0.23724908749680007, learning_rate=0.3253996981592677, max_depth=5, min_child_weight=0.7329375691657198, n_estimators=1358, num_leaves=164, total=   0.5s\n",
      "[CV] colsample_bytree=0.23724908749680007, learning_rate=0.3253996981592677, max_depth=5, min_child_weight=0.7329375691657198, n_estimators=1358, num_leaves=164 \n",
      "[CV]  colsample_bytree=0.23724908749680007, learning_rate=0.3253996981592677, max_depth=5, min_child_weight=0.7329375691657198, n_estimators=1358, num_leaves=164, total=   0.4s\n",
      "[CV] colsample_bytree=0.3080607918523892, learning_rate=0.5425402305548993, max_depth=12, min_child_weight=0.735431606118867, n_estimators=1245, num_leaves=177 \n",
      "[CV]  colsample_bytree=0.3080607918523892, learning_rate=0.5425402305548993, max_depth=12, min_child_weight=0.735431606118867, n_estimators=1245, num_leaves=177, total=   0.6s\n",
      "[CV] colsample_bytree=0.3080607918523892, learning_rate=0.5425402305548993, max_depth=12, min_child_weight=0.735431606118867, n_estimators=1245, num_leaves=177 \n",
      "[CV]  colsample_bytree=0.3080607918523892, learning_rate=0.5425402305548993, max_depth=12, min_child_weight=0.735431606118867, n_estimators=1245, num_leaves=177, total=   0.6s\n",
      "[CV] colsample_bytree=0.3080607918523892, learning_rate=0.5425402305548993, max_depth=12, min_child_weight=0.735431606118867, n_estimators=1245, num_leaves=177 \n",
      "[CV]  colsample_bytree=0.3080607918523892, learning_rate=0.5425402305548993, max_depth=12, min_child_weight=0.735431606118867, n_estimators=1245, num_leaves=177, total=   0.6s\n",
      "[CV] colsample_bytree=0.9730105547524456, learning_rate=0.3930977246667604, max_depth=7, min_child_weight=1.812197575437108, n_estimators=226, num_leaves=40 \n",
      "[CV]  colsample_bytree=0.9730105547524456, learning_rate=0.3930977246667604, max_depth=7, min_child_weight=1.812197575437108, n_estimators=226, num_leaves=40, total=   0.1s\n",
      "[CV] colsample_bytree=0.9730105547524456, learning_rate=0.3930977246667604, max_depth=7, min_child_weight=1.812197575437108, n_estimators=226, num_leaves=40 \n",
      "[CV]  colsample_bytree=0.9730105547524456, learning_rate=0.3930977246667604, max_depth=7, min_child_weight=1.812197575437108, n_estimators=226, num_leaves=40, total=   0.1s\n",
      "[CV] colsample_bytree=0.9730105547524456, learning_rate=0.3930977246667604, max_depth=7, min_child_weight=1.812197575437108, n_estimators=226, num_leaves=40 \n",
      "[CV]  colsample_bytree=0.9730105547524456, learning_rate=0.3930977246667604, max_depth=7, min_child_weight=1.812197575437108, n_estimators=226, num_leaves=40, total=   0.1s\n",
      "[CV] colsample_bytree=0.5026370931051921, learning_rate=0.5769038846263591, max_depth=2, min_child_weight=0.390485975596089, n_estimators=1015, num_leaves=166 \n",
      "[CV]  colsample_bytree=0.5026370931051921, learning_rate=0.5769038846263591, max_depth=2, min_child_weight=0.390485975596089, n_estimators=1015, num_leaves=166, total=   0.2s\n",
      "[CV] colsample_bytree=0.5026370931051921, learning_rate=0.5769038846263591, max_depth=2, min_child_weight=0.390485975596089, n_estimators=1015, num_leaves=166 \n",
      "[CV]  colsample_bytree=0.5026370931051921, learning_rate=0.5769038846263591, max_depth=2, min_child_weight=0.390485975596089, n_estimators=1015, num_leaves=166, total=   0.2s\n",
      "[CV] colsample_bytree=0.5026370931051921, learning_rate=0.5769038846263591, max_depth=2, min_child_weight=0.390485975596089, n_estimators=1015, num_leaves=166 \n",
      "[CV]  colsample_bytree=0.5026370931051921, learning_rate=0.5769038846263591, max_depth=2, min_child_weight=0.390485975596089, n_estimators=1015, num_leaves=166, total=   0.2s\n",
      "[CV] colsample_bytree=0.5720041992091831, learning_rate=0.768554014306309, max_depth=2, min_child_weight=1.989101021594682, n_estimators=357, num_leaves=65 \n",
      "[CV]  colsample_bytree=0.5720041992091831, learning_rate=0.768554014306309, max_depth=2, min_child_weight=1.989101021594682, n_estimators=357, num_leaves=65, total=   0.1s\n",
      "[CV] colsample_bytree=0.5720041992091831, learning_rate=0.768554014306309, max_depth=2, min_child_weight=1.989101021594682, n_estimators=357, num_leaves=65 \n",
      "[CV]  colsample_bytree=0.5720041992091831, learning_rate=0.768554014306309, max_depth=2, min_child_weight=1.989101021594682, n_estimators=357, num_leaves=65, total=   0.1s\n",
      "[CV] colsample_bytree=0.5720041992091831, learning_rate=0.768554014306309, max_depth=2, min_child_weight=1.989101021594682, n_estimators=357, num_leaves=65 \n",
      "[CV]  colsample_bytree=0.5720041992091831, learning_rate=0.768554014306309, max_depth=2, min_child_weight=1.989101021594682, n_estimators=357, num_leaves=65, total=   0.1s\n",
      "[CV] colsample_bytree=0.9148643902204485, learning_rate=0.3701587002554444, max_depth=10, min_child_weight=1.9061436940479064, n_estimators=696, num_leaves=65 \n",
      "[CV]  colsample_bytree=0.9148643902204485, learning_rate=0.3701587002554444, max_depth=10, min_child_weight=1.9061436940479064, n_estimators=696, num_leaves=65, total=   0.3s\n",
      "[CV] colsample_bytree=0.9148643902204485, learning_rate=0.3701587002554444, max_depth=10, min_child_weight=1.9061436940479064, n_estimators=696, num_leaves=65 \n",
      "[CV]  colsample_bytree=0.9148643902204485, learning_rate=0.3701587002554444, max_depth=10, min_child_weight=1.9061436940479064, n_estimators=696, num_leaves=65, total=   0.3s\n",
      "[CV] colsample_bytree=0.9148643902204485, learning_rate=0.3701587002554444, max_depth=10, min_child_weight=1.9061436940479064, n_estimators=696, num_leaves=65 \n",
      "[CV]  colsample_bytree=0.9148643902204485, learning_rate=0.3701587002554444, max_depth=10, min_child_weight=1.9061436940479064, n_estimators=696, num_leaves=65, total=   0.3s\n",
      "[CV] colsample_bytree=0.9666548190436696, learning_rate=0.9636199770892528, max_depth=2, min_child_weight=0.15069251201225642, n_estimators=452, num_leaves=179 \n",
      "[CV]  colsample_bytree=0.9666548190436696, learning_rate=0.9636199770892528, max_depth=2, min_child_weight=0.15069251201225642, n_estimators=452, num_leaves=179, total=   0.1s\n",
      "[CV] colsample_bytree=0.9666548190436696, learning_rate=0.9636199770892528, max_depth=2, min_child_weight=0.15069251201225642, n_estimators=452, num_leaves=179 \n",
      "[CV]  colsample_bytree=0.9666548190436696, learning_rate=0.9636199770892528, max_depth=2, min_child_weight=0.15069251201225642, n_estimators=452, num_leaves=179, total=   0.1s\n",
      "[CV] colsample_bytree=0.9666548190436696, learning_rate=0.9636199770892528, max_depth=2, min_child_weight=0.15069251201225642, n_estimators=452, num_leaves=179 \n",
      "[CV]  colsample_bytree=0.9666548190436696, learning_rate=0.9636199770892528, max_depth=2, min_child_weight=0.15069251201225642, n_estimators=452, num_leaves=179, total=   0.1s\n",
      "[CV] colsample_bytree=0.8511366715168569, learning_rate=0.31692200515627766, max_depth=3, min_child_weight=1.1136025249167003, n_estimators=765, num_leaves=77 \n",
      "[CV]  colsample_bytree=0.8511366715168569, learning_rate=0.31692200515627766, max_depth=3, min_child_weight=1.1136025249167003, n_estimators=765, num_leaves=77, total=   0.2s\n",
      "[CV] colsample_bytree=0.8511366715168569, learning_rate=0.31692200515627766, max_depth=3, min_child_weight=1.1136025249167003, n_estimators=765, num_leaves=77 \n",
      "[CV]  colsample_bytree=0.8511366715168569, learning_rate=0.31692200515627766, max_depth=3, min_child_weight=1.1136025249167003, n_estimators=765, num_leaves=77, total=   0.2s\n",
      "[CV] colsample_bytree=0.8511366715168569, learning_rate=0.31692200515627766, max_depth=3, min_child_weight=1.1136025249167003, n_estimators=765, num_leaves=77 \n",
      "[CV]  colsample_bytree=0.8511366715168569, learning_rate=0.31692200515627766, max_depth=3, min_child_weight=1.1136025249167003, n_estimators=765, num_leaves=77, total=   0.2s\n",
      "[CV] colsample_bytree=0.9300168348108319, learning_rate=0.0704161308495439, max_depth=3, min_child_weight=1.2300144533983395, n_estimators=1053, num_leaves=170 \n",
      "[CV]  colsample_bytree=0.9300168348108319, learning_rate=0.0704161308495439, max_depth=3, min_child_weight=1.2300144533983395, n_estimators=1053, num_leaves=170, total=   0.2s\n",
      "[CV] colsample_bytree=0.9300168348108319, learning_rate=0.0704161308495439, max_depth=3, min_child_weight=1.2300144533983395, n_estimators=1053, num_leaves=170 \n",
      "[CV]  colsample_bytree=0.9300168348108319, learning_rate=0.0704161308495439, max_depth=3, min_child_weight=1.2300144533983395, n_estimators=1053, num_leaves=170, total=   0.2s\n",
      "[CV] colsample_bytree=0.9300168348108319, learning_rate=0.0704161308495439, max_depth=3, min_child_weight=1.2300144533983395, n_estimators=1053, num_leaves=170 \n"
     ]
    },
    {
     "name": "stdout",
     "output_type": "stream",
     "text": [
      "[CV]  colsample_bytree=0.9300168348108319, learning_rate=0.0704161308495439, max_depth=3, min_child_weight=1.2300144533983395, n_estimators=1053, num_leaves=170, total=   0.2s\n",
      "[CV] colsample_bytree=0.14008401523652403, learning_rate=0.5183296523637367, max_depth=3, min_child_weight=0.645101528477201, n_estimators=1327, num_leaves=180 \n",
      "[CV]  colsample_bytree=0.14008401523652403, learning_rate=0.5183296523637367, max_depth=3, min_child_weight=0.645101528477201, n_estimators=1327, num_leaves=180, total=   0.3s\n",
      "[CV] colsample_bytree=0.14008401523652403, learning_rate=0.5183296523637367, max_depth=3, min_child_weight=0.645101528477201, n_estimators=1327, num_leaves=180 \n",
      "[CV]  colsample_bytree=0.14008401523652403, learning_rate=0.5183296523637367, max_depth=3, min_child_weight=0.645101528477201, n_estimators=1327, num_leaves=180, total=   0.3s\n",
      "[CV] colsample_bytree=0.14008401523652403, learning_rate=0.5183296523637367, max_depth=3, min_child_weight=0.645101528477201, n_estimators=1327, num_leaves=180 \n",
      "[CV]  colsample_bytree=0.14008401523652403, learning_rate=0.5183296523637367, max_depth=3, min_child_weight=0.645101528477201, n_estimators=1327, num_leaves=180, total=   0.3s\n",
      "[CV] colsample_bytree=0.13662133144202881, learning_rate=0.7089109969101186, max_depth=8, min_child_weight=0.5871836885289867, n_estimators=958, num_leaves=45 \n",
      "[CV]  colsample_bytree=0.13662133144202881, learning_rate=0.7089109969101186, max_depth=8, min_child_weight=0.5871836885289867, n_estimators=958, num_leaves=45, total=   0.2s\n",
      "[CV] colsample_bytree=0.13662133144202881, learning_rate=0.7089109969101186, max_depth=8, min_child_weight=0.5871836885289867, n_estimators=958, num_leaves=45 \n",
      "[CV]  colsample_bytree=0.13662133144202881, learning_rate=0.7089109969101186, max_depth=8, min_child_weight=0.5871836885289867, n_estimators=958, num_leaves=45, total=   0.3s\n",
      "[CV] colsample_bytree=0.13662133144202881, learning_rate=0.7089109969101186, max_depth=8, min_child_weight=0.5871836885289867, n_estimators=958, num_leaves=45 \n",
      "[CV]  colsample_bytree=0.13662133144202881, learning_rate=0.7089109969101186, max_depth=8, min_child_weight=0.5871836885289867, n_estimators=958, num_leaves=45, total=   0.2s\n",
      "[CV] colsample_bytree=0.8101133946791808, learning_rate=0.8670723185801037, max_depth=14, min_child_weight=0.16318836080048071, n_estimators=1102, num_leaves=76 \n",
      "[CV]  colsample_bytree=0.8101133946791808, learning_rate=0.8670723185801037, max_depth=14, min_child_weight=0.16318836080048071, n_estimators=1102, num_leaves=76, total=   0.5s\n",
      "[CV] colsample_bytree=0.8101133946791808, learning_rate=0.8670723185801037, max_depth=14, min_child_weight=0.16318836080048071, n_estimators=1102, num_leaves=76 \n",
      "[CV]  colsample_bytree=0.8101133946791808, learning_rate=0.8670723185801037, max_depth=14, min_child_weight=0.16318836080048071, n_estimators=1102, num_leaves=76, total=   0.6s\n",
      "[CV] colsample_bytree=0.8101133946791808, learning_rate=0.8670723185801037, max_depth=14, min_child_weight=0.16318836080048071, n_estimators=1102, num_leaves=76 \n",
      "[CV]  colsample_bytree=0.8101133946791808, learning_rate=0.8670723185801037, max_depth=14, min_child_weight=0.16318836080048071, n_estimators=1102, num_leaves=76, total=   0.7s\n",
      "[CV] colsample_bytree=0.6278944149486361, learning_rate=0.19427395351204224, max_depth=9, min_child_weight=1.4039337545154067, n_estimators=599, num_leaves=161 \n",
      "[CV]  colsample_bytree=0.6278944149486361, learning_rate=0.19427395351204224, max_depth=9, min_child_weight=1.4039337545154067, n_estimators=599, num_leaves=161, total=   0.3s\n",
      "[CV] colsample_bytree=0.6278944149486361, learning_rate=0.19427395351204224, max_depth=9, min_child_weight=1.4039337545154067, n_estimators=599, num_leaves=161 \n",
      "[CV]  colsample_bytree=0.6278944149486361, learning_rate=0.19427395351204224, max_depth=9, min_child_weight=1.4039337545154067, n_estimators=599, num_leaves=161, total=   0.3s\n",
      "[CV] colsample_bytree=0.6278944149486361, learning_rate=0.19427395351204224, max_depth=9, min_child_weight=1.4039337545154067, n_estimators=599, num_leaves=161 \n",
      "[CV]  colsample_bytree=0.6278944149486361, learning_rate=0.19427395351204224, max_depth=9, min_child_weight=1.4039337545154067, n_estimators=599, num_leaves=161, total=   0.3s\n",
      "[CV] colsample_bytree=0.8900053418175663, learning_rate=0.3379951568515358, max_depth=13, min_child_weight=1.1577297910151174, n_estimators=926, num_leaves=105 \n",
      "[CV]  colsample_bytree=0.8900053418175663, learning_rate=0.3379951568515358, max_depth=13, min_child_weight=1.1577297910151174, n_estimators=926, num_leaves=105, total=   0.5s\n",
      "[CV] colsample_bytree=0.8900053418175663, learning_rate=0.3379951568515358, max_depth=13, min_child_weight=1.1577297910151174, n_estimators=926, num_leaves=105 \n",
      "[CV]  colsample_bytree=0.8900053418175663, learning_rate=0.3379951568515358, max_depth=13, min_child_weight=1.1577297910151174, n_estimators=926, num_leaves=105, total=   0.5s\n",
      "[CV] colsample_bytree=0.8900053418175663, learning_rate=0.3379951568515358, max_depth=13, min_child_weight=1.1577297910151174, n_estimators=926, num_leaves=105 \n",
      "[CV]  colsample_bytree=0.8900053418175663, learning_rate=0.3379951568515358, max_depth=13, min_child_weight=1.1577297910151174, n_estimators=926, num_leaves=105, total=   0.5s\n",
      "[CV] colsample_bytree=0.32815266747473193, learning_rate=0.1550416167277442, max_depth=14, min_child_weight=1.6778670041387267, n_estimators=769, num_leaves=105 \n",
      "[CV]  colsample_bytree=0.32815266747473193, learning_rate=0.1550416167277442, max_depth=14, min_child_weight=1.6778670041387267, n_estimators=769, num_leaves=105, total=   0.3s\n",
      "[CV] colsample_bytree=0.32815266747473193, learning_rate=0.1550416167277442, max_depth=14, min_child_weight=1.6778670041387267, n_estimators=769, num_leaves=105 \n",
      "[CV]  colsample_bytree=0.32815266747473193, learning_rate=0.1550416167277442, max_depth=14, min_child_weight=1.6778670041387267, n_estimators=769, num_leaves=105, total=   0.3s\n",
      "[CV] colsample_bytree=0.32815266747473193, learning_rate=0.1550416167277442, max_depth=14, min_child_weight=1.6778670041387267, n_estimators=769, num_leaves=105 \n",
      "[CV]  colsample_bytree=0.32815266747473193, learning_rate=0.1550416167277442, max_depth=14, min_child_weight=1.6778670041387267, n_estimators=769, num_leaves=105, total=   0.3s\n",
      "[CV] colsample_bytree=0.25025136051586405, learning_rate=0.0388347344294232, max_depth=7, min_child_weight=1.0741648543933109, n_estimators=812, num_leaves=27 \n",
      "[CV]  colsample_bytree=0.25025136051586405, learning_rate=0.0388347344294232, max_depth=7, min_child_weight=1.0741648543933109, n_estimators=812, num_leaves=27, total=   0.3s\n",
      "[CV] colsample_bytree=0.25025136051586405, learning_rate=0.0388347344294232, max_depth=7, min_child_weight=1.0741648543933109, n_estimators=812, num_leaves=27 \n",
      "[CV]  colsample_bytree=0.25025136051586405, learning_rate=0.0388347344294232, max_depth=7, min_child_weight=1.0741648543933109, n_estimators=812, num_leaves=27, total=   0.3s\n",
      "[CV] colsample_bytree=0.25025136051586405, learning_rate=0.0388347344294232, max_depth=7, min_child_weight=1.0741648543933109, n_estimators=812, num_leaves=27 \n",
      "[CV]  colsample_bytree=0.25025136051586405, learning_rate=0.0388347344294232, max_depth=7, min_child_weight=1.0741648543933109, n_estimators=812, num_leaves=27, total=   0.3s\n",
      "[CV] colsample_bytree=0.7699935530986108, learning_rate=0.21582102749684318, max_depth=6, min_child_weight=0.9145303232274571, n_estimators=973, num_leaves=128 \n",
      "[CV]  colsample_bytree=0.7699935530986108, learning_rate=0.21582102749684318, max_depth=6, min_child_weight=0.9145303232274571, n_estimators=973, num_leaves=128, total=   0.4s\n",
      "[CV] colsample_bytree=0.7699935530986108, learning_rate=0.21582102749684318, max_depth=6, min_child_weight=0.9145303232274571, n_estimators=973, num_leaves=128 \n",
      "[CV]  colsample_bytree=0.7699935530986108, learning_rate=0.21582102749684318, max_depth=6, min_child_weight=0.9145303232274571, n_estimators=973, num_leaves=128, total=   0.4s\n",
      "[CV] colsample_bytree=0.7699935530986108, learning_rate=0.21582102749684318, max_depth=6, min_child_weight=0.9145303232274571, n_estimators=973, num_leaves=128 \n",
      "[CV]  colsample_bytree=0.7699935530986108, learning_rate=0.21582102749684318, max_depth=6, min_child_weight=0.9145303232274571, n_estimators=973, num_leaves=128, total=   0.4s\n",
      "[CV] colsample_bytree=0.19438003399487302, learning_rate=0.41135390505667857, max_depth=4, min_child_weight=1.274859802996413, n_estimators=855, num_leaves=32 \n"
     ]
    },
    {
     "name": "stdout",
     "output_type": "stream",
     "text": [
      "[CV]  colsample_bytree=0.19438003399487302, learning_rate=0.41135390505667857, max_depth=4, min_child_weight=1.274859802996413, n_estimators=855, num_leaves=32, total=   0.2s\n",
      "[CV] colsample_bytree=0.19438003399487302, learning_rate=0.41135390505667857, max_depth=4, min_child_weight=1.274859802996413, n_estimators=855, num_leaves=32 \n",
      "[CV]  colsample_bytree=0.19438003399487302, learning_rate=0.41135390505667857, max_depth=4, min_child_weight=1.274859802996413, n_estimators=855, num_leaves=32, total=   0.2s\n",
      "[CV] colsample_bytree=0.19438003399487302, learning_rate=0.41135390505667857, max_depth=4, min_child_weight=1.274859802996413, n_estimators=855, num_leaves=32 \n",
      "[CV]  colsample_bytree=0.19438003399487302, learning_rate=0.41135390505667857, max_depth=4, min_child_weight=1.274859802996413, n_estimators=855, num_leaves=32, total=   0.2s\n",
      "[CV] colsample_bytree=0.969536867114159, learning_rate=0.7145951041799521, max_depth=4, min_child_weight=1.5903723895374073, n_estimators=1030, num_leaves=38 \n",
      "[CV]  colsample_bytree=0.969536867114159, learning_rate=0.7145951041799521, max_depth=4, min_child_weight=1.5903723895374073, n_estimators=1030, num_leaves=38, total=   0.3s\n",
      "[CV] colsample_bytree=0.969536867114159, learning_rate=0.7145951041799521, max_depth=4, min_child_weight=1.5903723895374073, n_estimators=1030, num_leaves=38 \n",
      "[CV]  colsample_bytree=0.969536867114159, learning_rate=0.7145951041799521, max_depth=4, min_child_weight=1.5903723895374073, n_estimators=1030, num_leaves=38, total=   0.3s\n",
      "[CV] colsample_bytree=0.969536867114159, learning_rate=0.7145951041799521, max_depth=4, min_child_weight=1.5903723895374073, n_estimators=1030, num_leaves=38 \n",
      "[CV]  colsample_bytree=0.969536867114159, learning_rate=0.7145951041799521, max_depth=4, min_child_weight=1.5903723895374073, n_estimators=1030, num_leaves=38, total=   0.3s\n",
      "[CV] colsample_bytree=0.4389714207056361, learning_rate=0.07845638134226596, max_depth=6, min_child_weight=0.3686673486627401, n_estimators=990, num_leaves=146 \n",
      "[CV]  colsample_bytree=0.4389714207056361, learning_rate=0.07845638134226596, max_depth=6, min_child_weight=0.3686673486627401, n_estimators=990, num_leaves=146, total=   0.4s\n",
      "[CV] colsample_bytree=0.4389714207056361, learning_rate=0.07845638134226596, max_depth=6, min_child_weight=0.3686673486627401, n_estimators=990, num_leaves=146 \n",
      "[CV]  colsample_bytree=0.4389714207056361, learning_rate=0.07845638134226596, max_depth=6, min_child_weight=0.3686673486627401, n_estimators=990, num_leaves=146, total=   0.4s\n",
      "[CV] colsample_bytree=0.4389714207056361, learning_rate=0.07845638134226596, max_depth=6, min_child_weight=0.3686673486627401, n_estimators=990, num_leaves=146 \n",
      "[CV]  colsample_bytree=0.4389714207056361, learning_rate=0.07845638134226596, max_depth=6, min_child_weight=0.3686673486627401, n_estimators=990, num_leaves=146, total=   0.4s\n",
      "[CV] colsample_bytree=0.695974206093698, learning_rate=0.4089529444142699, max_depth=11, min_child_weight=1.830427455252961, n_estimators=1001, num_leaves=115 \n",
      "[CV]  colsample_bytree=0.695974206093698, learning_rate=0.4089529444142699, max_depth=11, min_child_weight=1.830427455252961, n_estimators=1001, num_leaves=115, total=   0.5s\n",
      "[CV] colsample_bytree=0.695974206093698, learning_rate=0.4089529444142699, max_depth=11, min_child_weight=1.830427455252961, n_estimators=1001, num_leaves=115 \n",
      "[CV]  colsample_bytree=0.695974206093698, learning_rate=0.4089529444142699, max_depth=11, min_child_weight=1.830427455252961, n_estimators=1001, num_leaves=115, total=   0.5s\n",
      "[CV] colsample_bytree=0.695974206093698, learning_rate=0.4089529444142699, max_depth=11, min_child_weight=1.830427455252961, n_estimators=1001, num_leaves=115 \n",
      "[CV]  colsample_bytree=0.695974206093698, learning_rate=0.4089529444142699, max_depth=11, min_child_weight=1.830427455252961, n_estimators=1001, num_leaves=115, total=   0.5s\n",
      "[CV] colsample_bytree=0.5492266647061205, learning_rate=0.7145959227000623, max_depth=9, min_child_weight=1.8692279946794195, n_estimators=1096, num_leaves=35 \n",
      "[CV]  colsample_bytree=0.5492266647061205, learning_rate=0.7145959227000623, max_depth=9, min_child_weight=1.8692279946794195, n_estimators=1096, num_leaves=35, total=   0.6s\n",
      "[CV] colsample_bytree=0.5492266647061205, learning_rate=0.7145959227000623, max_depth=9, min_child_weight=1.8692279946794195, n_estimators=1096, num_leaves=35 \n",
      "[CV]  colsample_bytree=0.5492266647061205, learning_rate=0.7145959227000623, max_depth=9, min_child_weight=1.8692279946794195, n_estimators=1096, num_leaves=35, total=   0.7s\n",
      "[CV] colsample_bytree=0.5492266647061205, learning_rate=0.7145959227000623, max_depth=9, min_child_weight=1.8692279946794195, n_estimators=1096, num_leaves=35 \n",
      "[CV]  colsample_bytree=0.5492266647061205, learning_rate=0.7145959227000623, max_depth=9, min_child_weight=1.8692279946794195, n_estimators=1096, num_leaves=35, total=   0.6s\n",
      "[CV] colsample_bytree=0.5166962574265667, learning_rate=0.6571113285001668, max_depth=6, min_child_weight=1.2234414924687045, n_estimators=446, num_leaves=95 \n",
      "[CV]  colsample_bytree=0.5166962574265667, learning_rate=0.6571113285001668, max_depth=6, min_child_weight=1.2234414924687045, n_estimators=446, num_leaves=95, total=   0.2s\n",
      "[CV] colsample_bytree=0.5166962574265667, learning_rate=0.6571113285001668, max_depth=6, min_child_weight=1.2234414924687045, n_estimators=446, num_leaves=95 \n",
      "[CV]  colsample_bytree=0.5166962574265667, learning_rate=0.6571113285001668, max_depth=6, min_child_weight=1.2234414924687045, n_estimators=446, num_leaves=95, total=   0.2s\n",
      "[CV] colsample_bytree=0.5166962574265667, learning_rate=0.6571113285001668, max_depth=6, min_child_weight=1.2234414924687045, n_estimators=446, num_leaves=95 \n",
      "[CV]  colsample_bytree=0.5166962574265667, learning_rate=0.6571113285001668, max_depth=6, min_child_weight=1.2234414924687045, n_estimators=446, num_leaves=95, total=   0.2s\n",
      "[CV] colsample_bytree=0.5660372104940763, learning_rate=0.15864644764249103, max_depth=7, min_child_weight=0.028786977259511737, n_estimators=1443, num_leaves=88 \n",
      "[CV]  colsample_bytree=0.5660372104940763, learning_rate=0.15864644764249103, max_depth=7, min_child_weight=0.028786977259511737, n_estimators=1443, num_leaves=88, total=   0.7s\n",
      "[CV] colsample_bytree=0.5660372104940763, learning_rate=0.15864644764249103, max_depth=7, min_child_weight=0.028786977259511737, n_estimators=1443, num_leaves=88 \n",
      "[CV]  colsample_bytree=0.5660372104940763, learning_rate=0.15864644764249103, max_depth=7, min_child_weight=0.028786977259511737, n_estimators=1443, num_leaves=88, total=   0.7s\n",
      "[CV] colsample_bytree=0.5660372104940763, learning_rate=0.15864644764249103, max_depth=7, min_child_weight=0.028786977259511737, n_estimators=1443, num_leaves=88 \n",
      "[CV]  colsample_bytree=0.5660372104940763, learning_rate=0.15864644764249103, max_depth=7, min_child_weight=0.028786977259511737, n_estimators=1443, num_leaves=88, total=   0.7s\n",
      "[CV] colsample_bytree=0.09415698826856012, learning_rate=0.3114133093912942, max_depth=5, min_child_weight=0.35066053977867706, n_estimators=1111, num_leaves=195 \n",
      "[CV]  colsample_bytree=0.09415698826856012, learning_rate=0.3114133093912942, max_depth=5, min_child_weight=0.35066053977867706, n_estimators=1111, num_leaves=195, total=   0.3s\n",
      "[CV] colsample_bytree=0.09415698826856012, learning_rate=0.3114133093912942, max_depth=5, min_child_weight=0.35066053977867706, n_estimators=1111, num_leaves=195 \n",
      "[CV]  colsample_bytree=0.09415698826856012, learning_rate=0.3114133093912942, max_depth=5, min_child_weight=0.35066053977867706, n_estimators=1111, num_leaves=195, total=   0.3s\n",
      "[CV] colsample_bytree=0.09415698826856012, learning_rate=0.3114133093912942, max_depth=5, min_child_weight=0.35066053977867706, n_estimators=1111, num_leaves=195 \n",
      "[CV]  colsample_bytree=0.09415698826856012, learning_rate=0.3114133093912942, max_depth=5, min_child_weight=0.35066053977867706, n_estimators=1111, num_leaves=195, total=   0.3s\n",
      "[CV] colsample_bytree=0.8069129770507795, learning_rate=0.3463043210894008, max_depth=6, min_child_weight=0.7970094687947469, n_estimators=721, num_leaves=88 \n",
      "[CV]  colsample_bytree=0.8069129770507795, learning_rate=0.3463043210894008, max_depth=6, min_child_weight=0.7970094687947469, n_estimators=721, num_leaves=88, total=   0.3s\n",
      "[CV] colsample_bytree=0.8069129770507795, learning_rate=0.3463043210894008, max_depth=6, min_child_weight=0.7970094687947469, n_estimators=721, num_leaves=88 \n"
     ]
    },
    {
     "name": "stdout",
     "output_type": "stream",
     "text": [
      "[CV]  colsample_bytree=0.8069129770507795, learning_rate=0.3463043210894008, max_depth=6, min_child_weight=0.7970094687947469, n_estimators=721, num_leaves=88, total=   0.3s\n",
      "[CV] colsample_bytree=0.8069129770507795, learning_rate=0.3463043210894008, max_depth=6, min_child_weight=0.7970094687947469, n_estimators=721, num_leaves=88 \n",
      "[CV]  colsample_bytree=0.8069129770507795, learning_rate=0.3463043210894008, max_depth=6, min_child_weight=0.7970094687947469, n_estimators=721, num_leaves=88, total=   0.3s\n",
      "[CV] colsample_bytree=0.8866803872980475, learning_rate=0.26089362334171395, max_depth=11, min_child_weight=1.2517198314284728, n_estimators=641, num_leaves=115 \n",
      "[CV]  colsample_bytree=0.8866803872980475, learning_rate=0.26089362334171395, max_depth=11, min_child_weight=1.2517198314284728, n_estimators=641, num_leaves=115, total=   0.3s\n",
      "[CV] colsample_bytree=0.8866803872980475, learning_rate=0.26089362334171395, max_depth=11, min_child_weight=1.2517198314284728, n_estimators=641, num_leaves=115 \n",
      "[CV]  colsample_bytree=0.8866803872980475, learning_rate=0.26089362334171395, max_depth=11, min_child_weight=1.2517198314284728, n_estimators=641, num_leaves=115, total=   0.3s\n",
      "[CV] colsample_bytree=0.8866803872980475, learning_rate=0.26089362334171395, max_depth=11, min_child_weight=1.2517198314284728, n_estimators=641, num_leaves=115 \n",
      "[CV]  colsample_bytree=0.8866803872980475, learning_rate=0.26089362334171395, max_depth=11, min_child_weight=1.2517198314284728, n_estimators=641, num_leaves=115, total=   0.3s\n",
      "[CV] colsample_bytree=0.8564898411883223, learning_rate=0.658693631618945, max_depth=5, min_child_weight=1.2317023287798277, n_estimators=535, num_leaves=21 \n",
      "[CV]  colsample_bytree=0.8564898411883223, learning_rate=0.658693631618945, max_depth=5, min_child_weight=1.2317023287798277, n_estimators=535, num_leaves=21, total=   0.2s\n",
      "[CV] colsample_bytree=0.8564898411883223, learning_rate=0.658693631618945, max_depth=5, min_child_weight=1.2317023287798277, n_estimators=535, num_leaves=21 \n",
      "[CV]  colsample_bytree=0.8564898411883223, learning_rate=0.658693631618945, max_depth=5, min_child_weight=1.2317023287798277, n_estimators=535, num_leaves=21, total=   0.2s\n",
      "[CV] colsample_bytree=0.8564898411883223, learning_rate=0.658693631618945, max_depth=5, min_child_weight=1.2317023287798277, n_estimators=535, num_leaves=21 \n",
      "[CV]  colsample_bytree=0.8564898411883223, learning_rate=0.658693631618945, max_depth=5, min_child_weight=1.2317023287798277, n_estimators=535, num_leaves=21, total=   0.2s\n",
      "[CV] colsample_bytree=0.026511310541621813, learning_rate=0.5857755812734633, max_depth=12, min_child_weight=1.6018985893647995, n_estimators=889, num_leaves=182 \n",
      "[CV]  colsample_bytree=0.026511310541621813, learning_rate=0.5857755812734633, max_depth=12, min_child_weight=1.6018985893647995, n_estimators=889, num_leaves=182, total=   0.2s\n",
      "[CV] colsample_bytree=0.026511310541621813, learning_rate=0.5857755812734633, max_depth=12, min_child_weight=1.6018985893647995, n_estimators=889, num_leaves=182 \n",
      "[CV]  colsample_bytree=0.026511310541621813, learning_rate=0.5857755812734633, max_depth=12, min_child_weight=1.6018985893647995, n_estimators=889, num_leaves=182, total=   0.2s\n",
      "[CV] colsample_bytree=0.026511310541621813, learning_rate=0.5857755812734633, max_depth=12, min_child_weight=1.6018985893647995, n_estimators=889, num_leaves=182 \n",
      "[CV]  colsample_bytree=0.026511310541621813, learning_rate=0.5857755812734633, max_depth=12, min_child_weight=1.6018985893647995, n_estimators=889, num_leaves=182, total=   0.2s\n",
      "[CV] colsample_bytree=0.6432882184423532, learning_rate=0.45825289049151663, max_depth=4, min_child_weight=1.6412789514879107, n_estimators=1491, num_leaves=86 \n",
      "[CV]  colsample_bytree=0.6432882184423532, learning_rate=0.45825289049151663, max_depth=4, min_child_weight=1.6412789514879107, n_estimators=1491, num_leaves=86, total=   0.5s\n",
      "[CV] colsample_bytree=0.6432882184423532, learning_rate=0.45825289049151663, max_depth=4, min_child_weight=1.6412789514879107, n_estimators=1491, num_leaves=86 \n",
      "[CV]  colsample_bytree=0.6432882184423532, learning_rate=0.45825289049151663, max_depth=4, min_child_weight=1.6412789514879107, n_estimators=1491, num_leaves=86, total=   0.5s\n",
      "[CV] colsample_bytree=0.6432882184423532, learning_rate=0.45825289049151663, max_depth=4, min_child_weight=1.6412789514879107, n_estimators=1491, num_leaves=86 \n",
      "[CV]  colsample_bytree=0.6432882184423532, learning_rate=0.45825289049151663, max_depth=4, min_child_weight=1.6412789514879107, n_estimators=1491, num_leaves=86, total=   0.5s\n",
      "[CV] colsample_bytree=0.8204268437712681, learning_rate=0.651484771857788, max_depth=12, min_child_weight=0.3915822695785929, n_estimators=596, num_leaves=31 \n",
      "[LightGBM] [Warning] Accuracy may be bad since you didn't explicitly set num_leaves OR 2^max_depth > num_leaves. (num_leaves=31).\n",
      "[CV]  colsample_bytree=0.8204268437712681, learning_rate=0.651484771857788, max_depth=12, min_child_weight=0.3915822695785929, n_estimators=596, num_leaves=31, total=   0.3s\n",
      "[CV] colsample_bytree=0.8204268437712681, learning_rate=0.651484771857788, max_depth=12, min_child_weight=0.3915822695785929, n_estimators=596, num_leaves=31 \n",
      "[LightGBM] [Warning] Accuracy may be bad since you didn't explicitly set num_leaves OR 2^max_depth > num_leaves. (num_leaves=31).\n",
      "[CV]  colsample_bytree=0.8204268437712681, learning_rate=0.651484771857788, max_depth=12, min_child_weight=0.3915822695785929, n_estimators=596, num_leaves=31, total=   0.3s\n",
      "[CV] colsample_bytree=0.8204268437712681, learning_rate=0.651484771857788, max_depth=12, min_child_weight=0.3915822695785929, n_estimators=596, num_leaves=31 \n",
      "[LightGBM] [Warning] Accuracy may be bad since you didn't explicitly set num_leaves OR 2^max_depth > num_leaves. (num_leaves=31).\n",
      "[CV]  colsample_bytree=0.8204268437712681, learning_rate=0.651484771857788, max_depth=12, min_child_weight=0.3915822695785929, n_estimators=596, num_leaves=31, total=   0.3s\n",
      "[CV] colsample_bytree=0.10077800137742665, learning_rate=0.018221825651549728, max_depth=4, min_child_weight=1.2365077686757857, n_estimators=926, num_leaves=100 \n",
      "[CV]  colsample_bytree=0.10077800137742665, learning_rate=0.018221825651549728, max_depth=4, min_child_weight=1.2365077686757857, n_estimators=926, num_leaves=100, total=   0.2s\n",
      "[CV] colsample_bytree=0.10077800137742665, learning_rate=0.018221825651549728, max_depth=4, min_child_weight=1.2365077686757857, n_estimators=926, num_leaves=100 \n",
      "[CV]  colsample_bytree=0.10077800137742665, learning_rate=0.018221825651549728, max_depth=4, min_child_weight=1.2365077686757857, n_estimators=926, num_leaves=100, total=   0.2s\n",
      "[CV] colsample_bytree=0.10077800137742665, learning_rate=0.018221825651549728, max_depth=4, min_child_weight=1.2365077686757857, n_estimators=926, num_leaves=100 \n",
      "[CV]  colsample_bytree=0.10077800137742665, learning_rate=0.018221825651549728, max_depth=4, min_child_weight=1.2365077686757857, n_estimators=926, num_leaves=100, total=   0.2s\n",
      "[CV] colsample_bytree=0.6557226353807422, learning_rate=0.38539662096556504, max_depth=11, min_child_weight=0.04654387147165173, n_estimators=617, num_leaves=134 \n",
      "[CV]  colsample_bytree=0.6557226353807422, learning_rate=0.38539662096556504, max_depth=11, min_child_weight=0.04654387147165173, n_estimators=617, num_leaves=134, total=   0.3s\n",
      "[CV] colsample_bytree=0.6557226353807422, learning_rate=0.38539662096556504, max_depth=11, min_child_weight=0.04654387147165173, n_estimators=617, num_leaves=134 \n",
      "[CV]  colsample_bytree=0.6557226353807422, learning_rate=0.38539662096556504, max_depth=11, min_child_weight=0.04654387147165173, n_estimators=617, num_leaves=134, total=   0.3s\n",
      "[CV] colsample_bytree=0.6557226353807422, learning_rate=0.38539662096556504, max_depth=11, min_child_weight=0.04654387147165173, n_estimators=617, num_leaves=134 \n",
      "[CV]  colsample_bytree=0.6557226353807422, learning_rate=0.38539662096556504, max_depth=11, min_child_weight=0.04654387147165173, n_estimators=617, num_leaves=134, total=   0.3s\n",
      "[CV] colsample_bytree=0.28185477477339993, learning_rate=0.11816482762165625, max_depth=6, min_child_weight=0.6966732089063947, n_estimators=1298, num_leaves=176 \n",
      "[CV]  colsample_bytree=0.28185477477339993, learning_rate=0.11816482762165625, max_depth=6, min_child_weight=0.6966732089063947, n_estimators=1298, num_leaves=176, total=   0.6s\n",
      "[CV] colsample_bytree=0.28185477477339993, learning_rate=0.11816482762165625, max_depth=6, min_child_weight=0.6966732089063947, n_estimators=1298, num_leaves=176 \n"
     ]
    },
    {
     "name": "stdout",
     "output_type": "stream",
     "text": [
      "[CV]  colsample_bytree=0.28185477477339993, learning_rate=0.11816482762165625, max_depth=6, min_child_weight=0.6966732089063947, n_estimators=1298, num_leaves=176, total=   0.5s\n",
      "[CV] colsample_bytree=0.28185477477339993, learning_rate=0.11816482762165625, max_depth=6, min_child_weight=0.6966732089063947, n_estimators=1298, num_leaves=176 \n",
      "[CV]  colsample_bytree=0.28185477477339993, learning_rate=0.11816482762165625, max_depth=6, min_child_weight=0.6966732089063947, n_estimators=1298, num_leaves=176, total=   0.5s\n",
      "[CV] colsample_bytree=0.039186326675646255, learning_rate=0.41794603171557876, max_depth=14, min_child_weight=0.564069145142613, n_estimators=656, num_leaves=171 \n",
      "[CV]  colsample_bytree=0.039186326675646255, learning_rate=0.41794603171557876, max_depth=14, min_child_weight=0.564069145142613, n_estimators=656, num_leaves=171, total=   0.1s\n",
      "[CV] colsample_bytree=0.039186326675646255, learning_rate=0.41794603171557876, max_depth=14, min_child_weight=0.564069145142613, n_estimators=656, num_leaves=171 \n",
      "[CV]  colsample_bytree=0.039186326675646255, learning_rate=0.41794603171557876, max_depth=14, min_child_weight=0.564069145142613, n_estimators=656, num_leaves=171, total=   0.1s\n",
      "[CV] colsample_bytree=0.039186326675646255, learning_rate=0.41794603171557876, max_depth=14, min_child_weight=0.564069145142613, n_estimators=656, num_leaves=171 \n",
      "[CV]  colsample_bytree=0.039186326675646255, learning_rate=0.41794603171557876, max_depth=14, min_child_weight=0.564069145142613, n_estimators=656, num_leaves=171, total=   0.1s\n",
      "[CV] colsample_bytree=0.806834739267264, learning_rate=0.9905051420006733, max_depth=5, min_child_weight=0.7440361715855663, n_estimators=295, num_leaves=171 \n",
      "[CV]  colsample_bytree=0.806834739267264, learning_rate=0.9905051420006733, max_depth=5, min_child_weight=0.7440361715855663, n_estimators=295, num_leaves=171, total=   0.1s\n",
      "[CV] colsample_bytree=0.806834739267264, learning_rate=0.9905051420006733, max_depth=5, min_child_weight=0.7440361715855663, n_estimators=295, num_leaves=171 \n",
      "[CV]  colsample_bytree=0.806834739267264, learning_rate=0.9905051420006733, max_depth=5, min_child_weight=0.7440361715855663, n_estimators=295, num_leaves=171, total=   0.1s\n",
      "[CV] colsample_bytree=0.806834739267264, learning_rate=0.9905051420006733, max_depth=5, min_child_weight=0.7440361715855663, n_estimators=295, num_leaves=171 \n",
      "[CV]  colsample_bytree=0.806834739267264, learning_rate=0.9905051420006733, max_depth=5, min_child_weight=0.7440361715855663, n_estimators=295, num_leaves=171, total=   0.1s\n",
      "[CV] colsample_bytree=0.8671166072097221, learning_rate=0.5618666921437736, max_depth=13, min_child_weight=0.8579880547500367, n_estimators=478, num_leaves=118 \n",
      "[CV]  colsample_bytree=0.8671166072097221, learning_rate=0.5618666921437736, max_depth=13, min_child_weight=0.8579880547500367, n_estimators=478, num_leaves=118, total=   0.2s\n",
      "[CV] colsample_bytree=0.8671166072097221, learning_rate=0.5618666921437736, max_depth=13, min_child_weight=0.8579880547500367, n_estimators=478, num_leaves=118 \n",
      "[CV]  colsample_bytree=0.8671166072097221, learning_rate=0.5618666921437736, max_depth=13, min_child_weight=0.8579880547500367, n_estimators=478, num_leaves=118, total=   0.2s\n",
      "[CV] colsample_bytree=0.8671166072097221, learning_rate=0.5618666921437736, max_depth=13, min_child_weight=0.8579880547500367, n_estimators=478, num_leaves=118 \n",
      "[CV]  colsample_bytree=0.8671166072097221, learning_rate=0.5618666921437736, max_depth=13, min_child_weight=0.8579880547500367, n_estimators=478, num_leaves=118, total=   0.4s\n",
      "[CV] colsample_bytree=0.10312386883593261, learning_rate=0.9025529066795667, max_depth=5, min_child_weight=1.6529149322154832, n_estimators=596, num_leaves=38 \n",
      "[CV]  colsample_bytree=0.10312386883593261, learning_rate=0.9025529066795667, max_depth=5, min_child_weight=1.6529149322154832, n_estimators=596, num_leaves=38, total=   0.2s\n",
      "[CV] colsample_bytree=0.10312386883593261, learning_rate=0.9025529066795667, max_depth=5, min_child_weight=1.6529149322154832, n_estimators=596, num_leaves=38 \n",
      "[CV]  colsample_bytree=0.10312386883593261, learning_rate=0.9025529066795667, max_depth=5, min_child_weight=1.6529149322154832, n_estimators=596, num_leaves=38, total=   0.2s\n",
      "[CV] colsample_bytree=0.10312386883593261, learning_rate=0.9025529066795667, max_depth=5, min_child_weight=1.6529149322154832, n_estimators=596, num_leaves=38 \n",
      "[CV]  colsample_bytree=0.10312386883593261, learning_rate=0.9025529066795667, max_depth=5, min_child_weight=1.6529149322154832, n_estimators=596, num_leaves=38, total=   0.2s\n",
      "[CV] colsample_bytree=0.3892016787341631, learning_rate=0.01083765148029836, max_depth=10, min_child_weight=1.6942862881911795, n_estimators=464, num_leaves=47 \n",
      "[CV]  colsample_bytree=0.3892016787341631, learning_rate=0.01083765148029836, max_depth=10, min_child_weight=1.6942862881911795, n_estimators=464, num_leaves=47, total=   0.3s\n",
      "[CV] colsample_bytree=0.3892016787341631, learning_rate=0.01083765148029836, max_depth=10, min_child_weight=1.6942862881911795, n_estimators=464, num_leaves=47 \n",
      "[CV]  colsample_bytree=0.3892016787341631, learning_rate=0.01083765148029836, max_depth=10, min_child_weight=1.6942862881911795, n_estimators=464, num_leaves=47, total=   0.3s\n",
      "[CV] colsample_bytree=0.3892016787341631, learning_rate=0.01083765148029836, max_depth=10, min_child_weight=1.6942862881911795, n_estimators=464, num_leaves=47 \n",
      "[CV]  colsample_bytree=0.3892016787341631, learning_rate=0.01083765148029836, max_depth=10, min_child_weight=1.6942862881911795, n_estimators=464, num_leaves=47, total=   0.2s\n",
      "[CV] colsample_bytree=0.9500619670508049, learning_rate=0.9506071469375561, max_depth=4, min_child_weight=0.9860513155436099, n_estimators=343, num_leaves=136 \n",
      "[CV]  colsample_bytree=0.9500619670508049, learning_rate=0.9506071469375561, max_depth=4, min_child_weight=0.9860513155436099, n_estimators=343, num_leaves=136, total=   0.1s\n",
      "[CV] colsample_bytree=0.9500619670508049, learning_rate=0.9506071469375561, max_depth=4, min_child_weight=0.9860513155436099, n_estimators=343, num_leaves=136 \n",
      "[CV]  colsample_bytree=0.9500619670508049, learning_rate=0.9506071469375561, max_depth=4, min_child_weight=0.9860513155436099, n_estimators=343, num_leaves=136, total=   0.1s\n",
      "[CV] colsample_bytree=0.9500619670508049, learning_rate=0.9506071469375561, max_depth=4, min_child_weight=0.9860513155436099, n_estimators=343, num_leaves=136 \n",
      "[CV]  colsample_bytree=0.9500619670508049, learning_rate=0.9506071469375561, max_depth=4, min_child_weight=0.9860513155436099, n_estimators=343, num_leaves=136, total=   0.1s\n",
      "[CV] colsample_bytree=0.09170414725848108, learning_rate=0.602440925901119, max_depth=5, min_child_weight=1.3450369121540768, n_estimators=1374, num_leaves=163 \n",
      "[CV]  colsample_bytree=0.09170414725848108, learning_rate=0.602440925901119, max_depth=5, min_child_weight=1.3450369121540768, n_estimators=1374, num_leaves=163, total=   0.4s\n",
      "[CV] colsample_bytree=0.09170414725848108, learning_rate=0.602440925901119, max_depth=5, min_child_weight=1.3450369121540768, n_estimators=1374, num_leaves=163 \n",
      "[CV]  colsample_bytree=0.09170414725848108, learning_rate=0.602440925901119, max_depth=5, min_child_weight=1.3450369121540768, n_estimators=1374, num_leaves=163, total=   0.3s\n",
      "[CV] colsample_bytree=0.09170414725848108, learning_rate=0.602440925901119, max_depth=5, min_child_weight=1.3450369121540768, n_estimators=1374, num_leaves=163 \n",
      "[CV]  colsample_bytree=0.09170414725848108, learning_rate=0.602440925901119, max_depth=5, min_child_weight=1.3450369121540768, n_estimators=1374, num_leaves=163, total=   0.3s\n",
      "[CV] colsample_bytree=0.7896181427945539, learning_rate=0.09120610304869037, max_depth=11, min_child_weight=1.9484964170688204, n_estimators=597, num_leaves=141 \n",
      "[CV]  colsample_bytree=0.7896181427945539, learning_rate=0.09120610304869037, max_depth=11, min_child_weight=1.9484964170688204, n_estimators=597, num_leaves=141, total=   0.3s\n",
      "[CV] colsample_bytree=0.7896181427945539, learning_rate=0.09120610304869037, max_depth=11, min_child_weight=1.9484964170688204, n_estimators=597, num_leaves=141 \n",
      "[CV]  colsample_bytree=0.7896181427945539, learning_rate=0.09120610304869037, max_depth=11, min_child_weight=1.9484964170688204, n_estimators=597, num_leaves=141, total=   0.3s\n",
      "[CV] colsample_bytree=0.7896181427945539, learning_rate=0.09120610304869037, max_depth=11, min_child_weight=1.9484964170688204, n_estimators=597, num_leaves=141 \n"
     ]
    },
    {
     "name": "stdout",
     "output_type": "stream",
     "text": [
      "[CV]  colsample_bytree=0.7896181427945539, learning_rate=0.09120610304869037, max_depth=11, min_child_weight=1.9484964170688204, n_estimators=597, num_leaves=141, total=   0.3s\n",
      "[CV] colsample_bytree=0.441530501373377, learning_rate=0.8877041827582998, max_depth=12, min_child_weight=1.411662967757389, n_estimators=950, num_leaves=95 \n",
      "[CV]  colsample_bytree=0.441530501373377, learning_rate=0.8877041827582998, max_depth=12, min_child_weight=1.411662967757389, n_estimators=950, num_leaves=95, total=   0.5s\n",
      "[CV] colsample_bytree=0.441530501373377, learning_rate=0.8877041827582998, max_depth=12, min_child_weight=1.411662967757389, n_estimators=950, num_leaves=95 \n",
      "[CV]  colsample_bytree=0.441530501373377, learning_rate=0.8877041827582998, max_depth=12, min_child_weight=1.411662967757389, n_estimators=950, num_leaves=95, total=   0.5s\n",
      "[CV] colsample_bytree=0.441530501373377, learning_rate=0.8877041827582998, max_depth=12, min_child_weight=1.411662967757389, n_estimators=950, num_leaves=95 \n",
      "[CV]  colsample_bytree=0.441530501373377, learning_rate=0.8877041827582998, max_depth=12, min_child_weight=1.411662967757389, n_estimators=950, num_leaves=95, total=   0.5s\n",
      "[CV] colsample_bytree=0.6880300101750391, learning_rate=0.8369638742373738, max_depth=2, min_child_weight=0.2022453522455805, n_estimators=1397, num_leaves=160 \n",
      "[CV]  colsample_bytree=0.6880300101750391, learning_rate=0.8369638742373738, max_depth=2, min_child_weight=0.2022453522455805, n_estimators=1397, num_leaves=160, total=   0.2s\n",
      "[CV] colsample_bytree=0.6880300101750391, learning_rate=0.8369638742373738, max_depth=2, min_child_weight=0.2022453522455805, n_estimators=1397, num_leaves=160 \n",
      "[CV]  colsample_bytree=0.6880300101750391, learning_rate=0.8369638742373738, max_depth=2, min_child_weight=0.2022453522455805, n_estimators=1397, num_leaves=160, total=   0.2s\n",
      "[CV] colsample_bytree=0.6880300101750391, learning_rate=0.8369638742373738, max_depth=2, min_child_weight=0.2022453522455805, n_estimators=1397, num_leaves=160 \n",
      "[CV]  colsample_bytree=0.6880300101750391, learning_rate=0.8369638742373738, max_depth=2, min_child_weight=0.2022453522455805, n_estimators=1397, num_leaves=160, total=   0.2s\n",
      "[CV] colsample_bytree=0.22257641757103053, learning_rate=0.39665160195425186, max_depth=12, min_child_weight=1.4124844543129924, n_estimators=228, num_leaves=184 \n",
      "[CV]  colsample_bytree=0.22257641757103053, learning_rate=0.39665160195425186, max_depth=12, min_child_weight=1.4124844543129924, n_estimators=228, num_leaves=184, total=   0.1s\n",
      "[CV] colsample_bytree=0.22257641757103053, learning_rate=0.39665160195425186, max_depth=12, min_child_weight=1.4124844543129924, n_estimators=228, num_leaves=184 \n",
      "[CV]  colsample_bytree=0.22257641757103053, learning_rate=0.39665160195425186, max_depth=12, min_child_weight=1.4124844543129924, n_estimators=228, num_leaves=184, total=   0.1s\n",
      "[CV] colsample_bytree=0.22257641757103053, learning_rate=0.39665160195425186, max_depth=12, min_child_weight=1.4124844543129924, n_estimators=228, num_leaves=184 \n",
      "[CV]  colsample_bytree=0.22257641757103053, learning_rate=0.39665160195425186, max_depth=12, min_child_weight=1.4124844543129924, n_estimators=228, num_leaves=184, total=   0.1s\n",
      "[CV] colsample_bytree=0.2332280724245278, learning_rate=0.5813054172267823, max_depth=14, min_child_weight=0.7412842941337818, n_estimators=699, num_leaves=164 \n",
      "[CV]  colsample_bytree=0.2332280724245278, learning_rate=0.5813054172267823, max_depth=14, min_child_weight=0.7412842941337818, n_estimators=699, num_leaves=164, total=   0.3s\n",
      "[CV] colsample_bytree=0.2332280724245278, learning_rate=0.5813054172267823, max_depth=14, min_child_weight=0.7412842941337818, n_estimators=699, num_leaves=164 \n",
      "[CV]  colsample_bytree=0.2332280724245278, learning_rate=0.5813054172267823, max_depth=14, min_child_weight=0.7412842941337818, n_estimators=699, num_leaves=164, total=   0.3s\n",
      "[CV] colsample_bytree=0.2332280724245278, learning_rate=0.5813054172267823, max_depth=14, min_child_weight=0.7412842941337818, n_estimators=699, num_leaves=164 \n",
      "[CV]  colsample_bytree=0.2332280724245278, learning_rate=0.5813054172267823, max_depth=14, min_child_weight=0.7412842941337818, n_estimators=699, num_leaves=164, total=   0.3s\n",
      "[CV] colsample_bytree=0.9472485773838587, learning_rate=0.9860010638228709, max_depth=5, min_child_weight=0.7004364934006271, n_estimators=1475, num_leaves=178 \n",
      "[CV]  colsample_bytree=0.9472485773838587, learning_rate=0.9860010638228709, max_depth=5, min_child_weight=0.7004364934006271, n_estimators=1475, num_leaves=178, total=   0.5s\n",
      "[CV] colsample_bytree=0.9472485773838587, learning_rate=0.9860010638228709, max_depth=5, min_child_weight=0.7004364934006271, n_estimators=1475, num_leaves=178 \n",
      "[CV]  colsample_bytree=0.9472485773838587, learning_rate=0.9860010638228709, max_depth=5, min_child_weight=0.7004364934006271, n_estimators=1475, num_leaves=178, total=   0.5s\n",
      "[CV] colsample_bytree=0.9472485773838587, learning_rate=0.9860010638228709, max_depth=5, min_child_weight=0.7004364934006271, n_estimators=1475, num_leaves=178 \n",
      "[CV]  colsample_bytree=0.9472485773838587, learning_rate=0.9860010638228709, max_depth=5, min_child_weight=0.7004364934006271, n_estimators=1475, num_leaves=178, total=   0.5s\n",
      "[CV] colsample_bytree=0.48166698796411533, learning_rate=0.37798759012225447, max_depth=8, min_child_weight=0.8484440184939526, n_estimators=238, num_leaves=145 \n",
      "[CV]  colsample_bytree=0.48166698796411533, learning_rate=0.37798759012225447, max_depth=8, min_child_weight=0.8484440184939526, n_estimators=238, num_leaves=145, total=   0.1s\n",
      "[CV] colsample_bytree=0.48166698796411533, learning_rate=0.37798759012225447, max_depth=8, min_child_weight=0.8484440184939526, n_estimators=238, num_leaves=145 \n",
      "[CV]  colsample_bytree=0.48166698796411533, learning_rate=0.37798759012225447, max_depth=8, min_child_weight=0.8484440184939526, n_estimators=238, num_leaves=145, total=   0.1s\n",
      "[CV] colsample_bytree=0.48166698796411533, learning_rate=0.37798759012225447, max_depth=8, min_child_weight=0.8484440184939526, n_estimators=238, num_leaves=145 \n",
      "[CV]  colsample_bytree=0.48166698796411533, learning_rate=0.37798759012225447, max_depth=8, min_child_weight=0.8484440184939526, n_estimators=238, num_leaves=145, total=   0.1s\n",
      "[CV] colsample_bytree=0.49262510429085915, learning_rate=0.011353644767419069, max_depth=13, min_child_weight=1.1429460504100213, n_estimators=675, num_leaves=80 \n",
      "[CV]  colsample_bytree=0.49262510429085915, learning_rate=0.011353644767419069, max_depth=13, min_child_weight=1.1429460504100213, n_estimators=675, num_leaves=80, total=   0.3s\n",
      "[CV] colsample_bytree=0.49262510429085915, learning_rate=0.011353644767419069, max_depth=13, min_child_weight=1.1429460504100213, n_estimators=675, num_leaves=80 \n",
      "[CV]  colsample_bytree=0.49262510429085915, learning_rate=0.011353644767419069, max_depth=13, min_child_weight=1.1429460504100213, n_estimators=675, num_leaves=80, total=   0.4s\n",
      "[CV] colsample_bytree=0.49262510429085915, learning_rate=0.011353644767419069, max_depth=13, min_child_weight=1.1429460504100213, n_estimators=675, num_leaves=80 \n",
      "[CV]  colsample_bytree=0.49262510429085915, learning_rate=0.011353644767419069, max_depth=13, min_child_weight=1.1429460504100213, n_estimators=675, num_leaves=80, total=   0.3s\n",
      "[CV] colsample_bytree=0.8227903518766931, learning_rate=0.7442116569432979, max_depth=4, min_child_weight=1.1667375301943193, n_estimators=389, num_leaves=132 \n",
      "[CV]  colsample_bytree=0.8227903518766931, learning_rate=0.7442116569432979, max_depth=4, min_child_weight=1.1667375301943193, n_estimators=389, num_leaves=132, total=   0.3s\n",
      "[CV] colsample_bytree=0.8227903518766931, learning_rate=0.7442116569432979, max_depth=4, min_child_weight=1.1667375301943193, n_estimators=389, num_leaves=132 \n",
      "[CV]  colsample_bytree=0.8227903518766931, learning_rate=0.7442116569432979, max_depth=4, min_child_weight=1.1667375301943193, n_estimators=389, num_leaves=132, total=   0.2s\n",
      "[CV] colsample_bytree=0.8227903518766931, learning_rate=0.7442116569432979, max_depth=4, min_child_weight=1.1667375301943193, n_estimators=389, num_leaves=132 \n",
      "[CV]  colsample_bytree=0.8227903518766931, learning_rate=0.7442116569432979, max_depth=4, min_child_weight=1.1667375301943193, n_estimators=389, num_leaves=132, total=   0.2s\n",
      "[CV] colsample_bytree=0.08289132169335423, learning_rate=0.5283701212972092, max_depth=6, min_child_weight=1.9264450788812226, n_estimators=884, num_leaves=179 \n"
     ]
    },
    {
     "name": "stdout",
     "output_type": "stream",
     "text": [
      "[CV]  colsample_bytree=0.08289132169335423, learning_rate=0.5283701212972092, max_depth=6, min_child_weight=1.9264450788812226, n_estimators=884, num_leaves=179, total=   0.2s\n",
      "[CV] colsample_bytree=0.08289132169335423, learning_rate=0.5283701212972092, max_depth=6, min_child_weight=1.9264450788812226, n_estimators=884, num_leaves=179 \n",
      "[CV]  colsample_bytree=0.08289132169335423, learning_rate=0.5283701212972092, max_depth=6, min_child_weight=1.9264450788812226, n_estimators=884, num_leaves=179, total=   0.2s\n",
      "[CV] colsample_bytree=0.08289132169335423, learning_rate=0.5283701212972092, max_depth=6, min_child_weight=1.9264450788812226, n_estimators=884, num_leaves=179 \n",
      "[CV]  colsample_bytree=0.08289132169335423, learning_rate=0.5283701212972092, max_depth=6, min_child_weight=1.9264450788812226, n_estimators=884, num_leaves=179, total=   0.2s\n",
      "[CV] colsample_bytree=0.5560050386425845, learning_rate=0.32268638827758367, max_depth=7, min_child_weight=1.849286660447192, n_estimators=963, num_leaves=183 \n",
      "[CV]  colsample_bytree=0.5560050386425845, learning_rate=0.32268638827758367, max_depth=7, min_child_weight=1.849286660447192, n_estimators=963, num_leaves=183, total=   0.6s\n",
      "[CV] colsample_bytree=0.5560050386425845, learning_rate=0.32268638827758367, max_depth=7, min_child_weight=1.849286660447192, n_estimators=963, num_leaves=183 \n",
      "[CV]  colsample_bytree=0.5560050386425845, learning_rate=0.32268638827758367, max_depth=7, min_child_weight=1.849286660447192, n_estimators=963, num_leaves=183, total=   0.5s\n",
      "[CV] colsample_bytree=0.5560050386425845, learning_rate=0.32268638827758367, max_depth=7, min_child_weight=1.849286660447192, n_estimators=963, num_leaves=183 \n",
      "[CV]  colsample_bytree=0.5560050386425845, learning_rate=0.32268638827758367, max_depth=7, min_child_weight=1.849286660447192, n_estimators=963, num_leaves=183, total=   0.5s\n",
      "[CV] colsample_bytree=0.5538542844013208, learning_rate=0.969302535619099, max_depth=3, min_child_weight=0.33243086381850584, n_estimators=1366, num_leaves=178 \n",
      "[CV]  colsample_bytree=0.5538542844013208, learning_rate=0.969302535619099, max_depth=3, min_child_weight=0.33243086381850584, n_estimators=1366, num_leaves=178, total=   0.3s\n",
      "[CV] colsample_bytree=0.5538542844013208, learning_rate=0.969302535619099, max_depth=3, min_child_weight=0.33243086381850584, n_estimators=1366, num_leaves=178 \n",
      "[CV]  colsample_bytree=0.5538542844013208, learning_rate=0.969302535619099, max_depth=3, min_child_weight=0.33243086381850584, n_estimators=1366, num_leaves=178, total=   0.3s\n",
      "[CV] colsample_bytree=0.5538542844013208, learning_rate=0.969302535619099, max_depth=3, min_child_weight=0.33243086381850584, n_estimators=1366, num_leaves=178 \n",
      "[CV]  colsample_bytree=0.5538542844013208, learning_rate=0.969302535619099, max_depth=3, min_child_weight=0.33243086381850584, n_estimators=1366, num_leaves=178, total=   0.3s\n",
      "[CV] colsample_bytree=0.9958313750293707, learning_rate=0.6969250558638148, max_depth=4, min_child_weight=1.802316020981978, n_estimators=1170, num_leaves=31 \n",
      "[CV]  colsample_bytree=0.9958313750293707, learning_rate=0.6969250558638148, max_depth=4, min_child_weight=1.802316020981978, n_estimators=1170, num_leaves=31, total=   0.3s\n",
      "[CV] colsample_bytree=0.9958313750293707, learning_rate=0.6969250558638148, max_depth=4, min_child_weight=1.802316020981978, n_estimators=1170, num_leaves=31 \n",
      "[CV]  colsample_bytree=0.9958313750293707, learning_rate=0.6969250558638148, max_depth=4, min_child_weight=1.802316020981978, n_estimators=1170, num_leaves=31, total=   0.3s\n",
      "[CV] colsample_bytree=0.9958313750293707, learning_rate=0.6969250558638148, max_depth=4, min_child_weight=1.802316020981978, n_estimators=1170, num_leaves=31 \n",
      "[CV]  colsample_bytree=0.9958313750293707, learning_rate=0.6969250558638148, max_depth=4, min_child_weight=1.802316020981978, n_estimators=1170, num_leaves=31, total=   0.3s\n",
      "[CV] colsample_bytree=0.9587024074078462, learning_rate=0.057863897757707394, max_depth=7, min_child_weight=0.9113135055714259, n_estimators=867, num_leaves=136 \n",
      "[CV]  colsample_bytree=0.9587024074078462, learning_rate=0.057863897757707394, max_depth=7, min_child_weight=0.9113135055714259, n_estimators=867, num_leaves=136, total=   0.4s\n",
      "[CV] colsample_bytree=0.9587024074078462, learning_rate=0.057863897757707394, max_depth=7, min_child_weight=0.9113135055714259, n_estimators=867, num_leaves=136 \n",
      "[CV]  colsample_bytree=0.9587024074078462, learning_rate=0.057863897757707394, max_depth=7, min_child_weight=0.9113135055714259, n_estimators=867, num_leaves=136, total=   0.4s\n",
      "[CV] colsample_bytree=0.9587024074078462, learning_rate=0.057863897757707394, max_depth=7, min_child_weight=0.9113135055714259, n_estimators=867, num_leaves=136 \n",
      "[CV]  colsample_bytree=0.9587024074078462, learning_rate=0.057863897757707394, max_depth=7, min_child_weight=0.9113135055714259, n_estimators=867, num_leaves=136, total=   0.4s\n",
      "[CV] colsample_bytree=0.2773811829811327, learning_rate=0.1881211597237613, max_depth=11, min_child_weight=0.7765367679797444, n_estimators=1401, num_leaves=47 \n",
      "[CV]  colsample_bytree=0.2773811829811327, learning_rate=0.1881211597237613, max_depth=11, min_child_weight=0.7765367679797444, n_estimators=1401, num_leaves=47, total=   0.7s\n",
      "[CV] colsample_bytree=0.2773811829811327, learning_rate=0.1881211597237613, max_depth=11, min_child_weight=0.7765367679797444, n_estimators=1401, num_leaves=47 \n",
      "[CV]  colsample_bytree=0.2773811829811327, learning_rate=0.1881211597237613, max_depth=11, min_child_weight=0.7765367679797444, n_estimators=1401, num_leaves=47, total=   0.7s\n",
      "[CV] colsample_bytree=0.2773811829811327, learning_rate=0.1881211597237613, max_depth=11, min_child_weight=0.7765367679797444, n_estimators=1401, num_leaves=47 \n",
      "[CV]  colsample_bytree=0.2773811829811327, learning_rate=0.1881211597237613, max_depth=11, min_child_weight=0.7765367679797444, n_estimators=1401, num_leaves=47, total=   0.8s\n",
      "[CV] colsample_bytree=0.07773463696498484, learning_rate=0.9743948076661665, max_depth=12, min_child_weight=1.3963234280394903, n_estimators=1368, num_leaves=180 \n",
      "[CV]  colsample_bytree=0.07773463696498484, learning_rate=0.9743948076661665, max_depth=12, min_child_weight=1.3963234280394903, n_estimators=1368, num_leaves=180, total=   0.3s\n",
      "[CV] colsample_bytree=0.07773463696498484, learning_rate=0.9743948076661665, max_depth=12, min_child_weight=1.3963234280394903, n_estimators=1368, num_leaves=180 \n",
      "[CV]  colsample_bytree=0.07773463696498484, learning_rate=0.9743948076661665, max_depth=12, min_child_weight=1.3963234280394903, n_estimators=1368, num_leaves=180, total=   0.3s\n",
      "[CV] colsample_bytree=0.07773463696498484, learning_rate=0.9743948076661665, max_depth=12, min_child_weight=1.3963234280394903, n_estimators=1368, num_leaves=180 \n",
      "[CV]  colsample_bytree=0.07773463696498484, learning_rate=0.9743948076661665, max_depth=12, min_child_weight=1.3963234280394903, n_estimators=1368, num_leaves=180, total=   0.3s\n",
      "[CV] colsample_bytree=0.41120672087218624, learning_rate=0.6027818820232985, max_depth=14, min_child_weight=0.2663702504474994, n_estimators=1476, num_leaves=153 \n",
      "[CV]  colsample_bytree=0.41120672087218624, learning_rate=0.6027818820232985, max_depth=14, min_child_weight=0.2663702504474994, n_estimators=1476, num_leaves=153, total=   0.8s\n",
      "[CV] colsample_bytree=0.41120672087218624, learning_rate=0.6027818820232985, max_depth=14, min_child_weight=0.2663702504474994, n_estimators=1476, num_leaves=153 \n",
      "[CV]  colsample_bytree=0.41120672087218624, learning_rate=0.6027818820232985, max_depth=14, min_child_weight=0.2663702504474994, n_estimators=1476, num_leaves=153, total=   0.8s\n",
      "[CV] colsample_bytree=0.41120672087218624, learning_rate=0.6027818820232985, max_depth=14, min_child_weight=0.2663702504474994, n_estimators=1476, num_leaves=153 \n",
      "[CV]  colsample_bytree=0.41120672087218624, learning_rate=0.6027818820232985, max_depth=14, min_child_weight=0.2663702504474994, n_estimators=1476, num_leaves=153, total=   0.8s\n"
     ]
    },
    {
     "name": "stderr",
     "output_type": "stream",
     "text": [
      "[Parallel(n_jobs=1)]: Done 300 out of 300 | elapsed:  1.8min finished\n"
     ]
    }
   ],
   "source": [
    "lgb_model = LGBMRegressor(subsample=0.9)\n",
    "\n",
    "\n",
    "params = {'learning_rate': uniform(0, 1),\n",
    "          'n_estimators': sp_randint(200, 1500),\n",
    "          'num_leaves': sp_randint(20, 200),\n",
    "          'max_depth': sp_randint(2, 15),\n",
    "          'min_child_weight': uniform(0, 2),\n",
    "          'colsample_bytree': uniform(0, 1),\n",
    "         }\n",
    "\n",
    "# params\n",
    "lgb_random = RandomizedSearchCV(lgb_model, param_distributions = params, n_iter = 100, cv = 3, random_state = 42, \n",
    "                                scoring = 'neg_root_mean_squared_error', verbose = 2, return_train_score = True)\n",
    "\n",
    "lgb_random = lgb_random.fit(X_train, y_train)\n"
   ]
  },
  {
   "cell_type": "code",
   "execution_count": 40,
   "metadata": {},
   "outputs": [
    {
     "name": "stdout",
     "output_type": "stream",
     "text": [
      "{'colsample_bytree': 0.7080725777960455, 'learning_rate': 0.020584494295802447, 'max_depth': 3, 'min_child_weight': 1.4439975445336495, 'n_estimators': 1005, 'num_leaves': 149}\n"
     ]
    }
   ],
   "source": [
    "best_params_lgb = lgb_random.best_params_\n",
    "print(best_params_lgb)"
   ]
  },
  {
   "cell_type": "code",
   "execution_count": 41,
   "metadata": {},
   "outputs": [
    {
     "name": "stdout",
     "output_type": "stream",
     "text": [
      "Mean Absolute Error: 95.80045485337094\n",
      "Mean Squared Error: 27303.761765623633\n",
      "Root Mean Squared Error: 165.23849964709686\n"
     ]
    }
   ],
   "source": [
    "best_model_lgbm = LGBMRegressor(**best_params_lgb, subsample=0.9, random_state=42, n_jobs=-1)\n",
    "best_model_lgbm.fit(X_train, y_train)\n",
    "best_lgbm_pred = best_model_lgbm.predict(X_valid)\n",
    "\n",
    "print('Mean Absolute Error:', metrics.mean_absolute_error(y_valid, best_lgbm_pred))\n",
    "print('Mean Squared Error:', metrics.mean_squared_error(y_valid, best_lgbm_pred))\n",
    "print('Root Mean Squared Error:', np.sqrt(metrics.mean_squared_error(y_valid, best_lgbm_pred)))"
   ]
  },
  {
   "cell_type": "markdown",
   "metadata": {},
   "source": [
    "# After the Random Search Model by cross validation, the best model is Random Forest and I gone use this model to predict the final data\n",
    "- Random forest have better performance but is slowest to train then LGBMRegressor.\n",
    "- In a project who want's better speed then performance, LGBM is the choise.\n"
   ]
  },
  {
   "cell_type": "code",
   "execution_count": 42,
   "metadata": {},
   "outputs": [
    {
     "data": {
      "text/html": [
       "<div>\n",
       "<style scoped>\n",
       "    .dataframe tbody tr th:only-of-type {\n",
       "        vertical-align: middle;\n",
       "    }\n",
       "\n",
       "    .dataframe tbody tr th {\n",
       "        vertical-align: top;\n",
       "    }\n",
       "\n",
       "    .dataframe thead th {\n",
       "        text-align: right;\n",
       "    }\n",
       "</style>\n",
       "<table border=\"1\" class=\"dataframe\">\n",
       "  <thead>\n",
       "    <tr style=\"text-align: right;\">\n",
       "      <th></th>\n",
       "      <th>MATRICULA</th>\n",
       "      <th>IDADE</th>\n",
       "      <th>NASCIMENTO</th>\n",
       "      <th>SEXO</th>\n",
       "      <th>IMC</th>\n",
       "      <th>FILHOS</th>\n",
       "      <th>FUMANTE</th>\n",
       "      <th>SIGNO</th>\n",
       "      <th>REGIÃO</th>\n",
       "      <th>FACEBOOK</th>\n",
       "      <th>CLASSE</th>\n",
       "      <th>VALOR</th>\n",
       "      <th>SEXO_BINARIO</th>\n",
       "    </tr>\n",
       "  </thead>\n",
       "  <tbody>\n",
       "    <tr>\n",
       "      <th>0</th>\n",
       "      <td>1123</td>\n",
       "      <td>22.0</td>\n",
       "      <td>1997-07-27</td>\n",
       "      <td>F</td>\n",
       "      <td>21.280</td>\n",
       "      <td>3.0</td>\n",
       "      <td>0</td>\n",
       "      <td>Leão</td>\n",
       "      <td>4.0</td>\n",
       "      <td>1.0</td>\n",
       "      <td>4</td>\n",
       "      <td>923.007088</td>\n",
       "      <td>1</td>\n",
       "    </tr>\n",
       "    <tr>\n",
       "      <th>1</th>\n",
       "      <td>743</td>\n",
       "      <td>36.0</td>\n",
       "      <td>1983-08-12</td>\n",
       "      <td>F</td>\n",
       "      <td>25.840</td>\n",
       "      <td>0.0</td>\n",
       "      <td>0</td>\n",
       "      <td>Leão</td>\n",
       "      <td>4.0</td>\n",
       "      <td>1.0</td>\n",
       "      <td>4</td>\n",
       "      <td>915.825560</td>\n",
       "      <td>1</td>\n",
       "    </tr>\n",
       "    <tr>\n",
       "      <th>2</th>\n",
       "      <td>1151</td>\n",
       "      <td>21.0</td>\n",
       "      <td>1998-06-20</td>\n",
       "      <td>M</td>\n",
       "      <td>28.975</td>\n",
       "      <td>0.0</td>\n",
       "      <td>0</td>\n",
       "      <td>Gêmeos</td>\n",
       "      <td>4.0</td>\n",
       "      <td>1.0</td>\n",
       "      <td>5</td>\n",
       "      <td>912.381569</td>\n",
       "      <td>0</td>\n",
       "    </tr>\n",
       "    <tr>\n",
       "      <th>3</th>\n",
       "      <td>451</td>\n",
       "      <td>47.0</td>\n",
       "      <td>1972-09-22</td>\n",
       "      <td>M</td>\n",
       "      <td>25.460</td>\n",
       "      <td>2.0</td>\n",
       "      <td>0</td>\n",
       "      <td>Virgem</td>\n",
       "      <td>2.0</td>\n",
       "      <td>1.0</td>\n",
       "      <td>4</td>\n",
       "      <td>920.028149</td>\n",
       "      <td>0</td>\n",
       "    </tr>\n",
       "    <tr>\n",
       "      <th>4</th>\n",
       "      <td>12</td>\n",
       "      <td>64.0</td>\n",
       "      <td>1955-11-17</td>\n",
       "      <td>F</td>\n",
       "      <td>30.115</td>\n",
       "      <td>3.0</td>\n",
       "      <td>0</td>\n",
       "      <td>NaN</td>\n",
       "      <td>4.0</td>\n",
       "      <td>0.0</td>\n",
       "      <td>6</td>\n",
       "      <td>923.007088</td>\n",
       "      <td>1</td>\n",
       "    </tr>\n",
       "  </tbody>\n",
       "</table>\n",
       "</div>"
      ],
      "text/plain": [
       "   MATRICULA  IDADE NASCIMENTO SEXO     IMC  FILHOS  FUMANTE   SIGNO  REGIÃO  \\\n",
       "0       1123   22.0 1997-07-27    F  21.280     3.0        0    Leão     4.0   \n",
       "1        743   36.0 1983-08-12    F  25.840     0.0        0    Leão     4.0   \n",
       "2       1151   21.0 1998-06-20    M  28.975     0.0        0  Gêmeos     4.0   \n",
       "3        451   47.0 1972-09-22    M  25.460     2.0        0  Virgem     2.0   \n",
       "4         12   64.0 1955-11-17    F  30.115     3.0        0     NaN     4.0   \n",
       "\n",
       "   FACEBOOK  CLASSE       VALOR  SEXO_BINARIO  \n",
       "0       1.0       4  923.007088             1  \n",
       "1       1.0       4  915.825560             1  \n",
       "2       1.0       5  912.381569             0  \n",
       "3       1.0       4  920.028149             0  \n",
       "4       0.0       6  923.007088             1  "
      ]
     },
     "execution_count": 42,
     "metadata": {},
     "output_type": "execute_result"
    }
   ],
   "source": [
    "final_prediction = best_rf.predict(test_final)\n",
    "test['VALOR'] = final_prediction\n",
    "test = test.drop(['Aquário','Capricórnio','Câncer',\n",
    "                  'Escorpião','Gêmeos', 'Leão', 'Libra', 'Peixes', 'Sagitário', 'Touro', 'Virgem', 'Áries'], axis=1)\n",
    "test.head()"
   ]
  },
  {
   "cell_type": "code",
   "execution_count": 43,
   "metadata": {},
   "outputs": [],
   "source": [
    "test = test.drop(['SEXO_BINARIO'], axis=1)"
   ]
  },
  {
   "cell_type": "code",
   "execution_count": 44,
   "metadata": {},
   "outputs": [],
   "source": [
    "test.to_csv('final_test.csv')"
   ]
  },
  {
   "cell_type": "markdown",
   "metadata": {},
   "source": [
    "# Final Error Measures of RandomForestRegressor and LGBMRegressor"
   ]
  },
  {
   "cell_type": "code",
   "execution_count": 45,
   "metadata": {},
   "outputs": [
    {
     "data": {
      "image/png": "[encoded data removed]",
      "text/plain": [
       "<Figure size 720x360 with 1 Axes>"
      ]
     },
     "metadata": {
      "needs_background": "light"
     },
     "output_type": "display_data"
    }
   ],
   "source": [
    "final_data = {'Mean Absolute Error': [metrics.mean_absolute_error(y_valid, best_rf_pred),  metrics.mean_absolute_error(y_valid, best_lgbm_pred)],\n",
    "        'Mean Squared Error': [metrics.mean_squared_error(y_valid, best_rf_pred), metrics.mean_squared_error(y_valid, best_lgbm_pred)],\n",
    "        'Root Mean Squared Error': [np.sqrt(metrics.mean_squared_error(y_valid, best_rf_pred)), np.sqrt(metrics.mean_squared_error(y_valid, best_lgbm_pred))]}\n",
    "\n",
    "df_final_scores= pd.DataFrame(final_data, index=['RandomForestRegressor', 'LGBMRegressor'])\n",
    "df_final_scores.plot(kind='barh', figsize=(10,5))\n",
    "\n",
    "plt.title('Error Measures of RandomForest and LGBM regressors')\n",
    "plt.ylabel('Error Measures')\n",
    "plt.xlabel('Error Value')\n",
    "plt.show()"
   ]
  },
  {
   "cell_type": "code",
   "execution_count": 46,
   "metadata": {},
   "outputs": [
    {
     "data": {
      "image/png": "[encoded data removed]",
      "text/plain": [
       "<Figure size 720x360 with 1 Axes>"
      ]
     },
     "metadata": {
      "needs_background": "light"
     },
     "output_type": "display_data"
    }
   ],
   "source": [
    "df_final_scores.drop(['Mean Squared Error'], axis=1).plot(kind='barh', figsize=(10,5))\n",
    "\n",
    "plt.title('Error Measures of the algorithms without Mean Squared Error')\n",
    "plt.ylabel('Error Measures')\n",
    "plt.xlabel('Error Value')\n",
    "plt.show()"
   ]
  },
  {
   "cell_type": "markdown",
   "metadata": {},
   "source": [
    "## Graph of the iterations"
   ]
  },
  {
   "cell_type": "code",
   "execution_count": 47,
   "metadata": {},
   "outputs": [],
   "source": [
    "df_results_rf = pd.DataFrame(rf_random.cv_results_)\n",
    "df_results_lg = pd.DataFrame(lgb_random.cv_results_)"
   ]
  },
  {
   "cell_type": "code",
   "execution_count": 48,
   "metadata": {},
   "outputs": [],
   "source": [
    "rs_rf = df_results_rf['mean_test_score']*-1\n",
    "rs_lg = df_results_lg['mean_test_score']*-1"
   ]
  },
  {
   "cell_type": "code",
   "execution_count": 49,
   "metadata": {},
   "outputs": [
    {
     "data": {
      "image/png": "[encoded data removed]",
      "text/plain": [
       "<Figure size 1080x360 with 1 Axes>"
      ]
     },
     "metadata": {
      "needs_background": "light"
     },
     "output_type": "display_data"
    }
   ],
   "source": [
    "df = pd.DataFrame({\n",
    "   'LGBM': rs_lg,\n",
    "   'Random': rs_rf\n",
    "   })\n",
    "df.plot(kind='line', figsize=(15,5))\n",
    "\n",
    "plt.title('Algorithms errors in 100 iterations')\n",
    "plt.ylabel('Error value')\n",
    "plt.xlabel('Iterations')\n",
    "plt.show()"
   ]
  },
  {
   "cell_type": "code",
   "execution_count": null,
   "metadata": {},
   "outputs": [],
   "source": []
  }
 ],
 "metadata": {
  "kernelspec": {
   "display_name": "Python 3",
   "language": "python",
   "name": "python3"
  },
  "language_info": {
   "codemirror_mode": {
    "name": "ipython",
    "version": 3
   },
   "file_extension": ".py",
   "mimetype": "text/x-python",
   "name": "python",
   "nbconvert_exporter": "python",
   "pygments_lexer": "ipython3",
   "version": "3.8.5"
  }
 },
 "nbformat": 4,
 "nbformat_minor": 4
}
